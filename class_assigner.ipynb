{
 "cells": [
  {
   "cell_type": "code",
   "execution_count": 1,
   "metadata": {
    "ExecuteTime": {
     "end_time": "2017-09-06T02:27:14.212226Z",
     "start_time": "2017-09-06T02:27:12.980723Z"
    },
    "collapsed": true
   },
   "outputs": [],
   "source": [
    "import numpy as np\n",
    "import pandas as pd\n",
    "import matplotlib.pyplot as plt\n",
    "from ipywidgets.widgets import Button, Box\n",
    "from IPython import display\n",
    "\n",
    "%matplotlib inline"
   ]
  },
  {
   "cell_type": "markdown",
   "metadata": {},
   "source": [
    "**Problem Description**\n",
    "\n",
    "Everybody has to be assigned to exactly one timeslot; we know which ones they're available for and which ones they prefer. Try to maximize the number of people assigned to timeslots they prefer while keeping the number of students at each time similar.\n",
    "\n",
    "**Notes**\n",
    "\n",
    "Currently, this fails if you can't move anybody from the most populated time to the least populated time. This shouldn't be too hard to fix by moving somebody either from the second-most populated time to the least populated time or from the most populated time to the second least populated time."
   ]
  },
  {
   "cell_type": "code",
   "execution_count": 2,
   "metadata": {
    "ExecuteTime": {
     "end_time": "2017-09-06T02:27:14.633107Z",
     "start_time": "2017-09-06T02:27:14.506143Z"
    },
    "collapsed": true
   },
   "outputs": [],
   "source": [
    "def synthetic_data(n_students=50, n_students_no_answer=10, n_timeslots=3):\n",
    "    students = []\n",
    "    names = []\n",
    "    for _ in range(n_students):\n",
    "        first_name = ''.join(np.random.choice(list('abcdefghijklmnopqrstuvwxyzaaeeiioouusst'), size=7))\n",
    "        last_name = ''.join(np.random.choice(list('abcdefghijklmnopqrstuvwxyzaaeeiioouusst'), size=6))\n",
    "        availability = np.random.choice(['No', 'Yes', 'Yes'], size=n_timeslots)\n",
    "        preference = np.random.choice(np.arange(n_timeslots))\n",
    "        availability[preference] = 'Yes' # make sure you're available during your preferred time!\n",
    "        students.append([first_name, last_name, *availability, preference])\n",
    "        names.append([last_name, first_name])\n",
    "    pd.DataFrame(students).to_csv('responses.csv', index=None, header=None)\n",
    "    \n",
    "    for _ in range(n_students_no_answer):\n",
    "        first_name = ''.join(np.random.choice(list('abcdefghijklmnopqrstuvwxyzaaeeiioouusst'), size=7))\n",
    "        last_name = ''.join(np.random.choice(list('abcdefghijklmnopqrstuvwxyzaaeeiioouusst'), size=6))\n",
    "        names.append([last_name, first_name])\n",
    "    pd.DataFrame(names).to_csv('names.csv', index=None, header=None)"
   ]
  },
  {
   "cell_type": "code",
   "execution_count": 3,
   "metadata": {
    "ExecuteTime": {
     "end_time": "2017-09-06T02:27:15.013929Z",
     "start_time": "2017-09-06T02:27:14.983994Z"
    },
    "collapsed": true
   },
   "outputs": [],
   "source": [
    "# synthetic_data()"
   ]
  },
  {
   "cell_type": "code",
   "execution_count": 4,
   "metadata": {
    "ExecuteTime": {
     "end_time": "2017-09-06T02:27:15.968171Z",
     "start_time": "2017-09-06T02:27:15.827078Z"
    }
   },
   "outputs": [
    {
     "data": {
      "text/html": [
       "<div>\n",
       "<style>\n",
       "    .dataframe thead tr:only-child th {\n",
       "        text-align: right;\n",
       "    }\n",
       "\n",
       "    .dataframe thead th {\n",
       "        text-align: left;\n",
       "    }\n",
       "\n",
       "    .dataframe tbody tr th {\n",
       "        vertical-align: top;\n",
       "    }\n",
       "</style>\n",
       "<table border=\"1\" class=\"dataframe\">\n",
       "  <thead>\n",
       "    <tr style=\"text-align: right;\">\n",
       "      <th></th>\n",
       "      <th>first_name</th>\n",
       "      <th>last_name</th>\n",
       "      <th>time_0</th>\n",
       "      <th>time_1</th>\n",
       "      <th>time_2</th>\n",
       "      <th>preference</th>\n",
       "      <th>assignment</th>\n",
       "    </tr>\n",
       "    <tr>\n",
       "      <th>name</th>\n",
       "      <th></th>\n",
       "      <th></th>\n",
       "      <th></th>\n",
       "      <th></th>\n",
       "      <th></th>\n",
       "      <th></th>\n",
       "      <th></th>\n",
       "    </tr>\n",
       "  </thead>\n",
       "  <tbody>\n",
       "    <tr>\n",
       "      <th>utyldtq utbsyj</th>\n",
       "      <td>utyldtq</td>\n",
       "      <td>utbsyj</td>\n",
       "      <td>Yes</td>\n",
       "      <td>Yes</td>\n",
       "      <td>Yes</td>\n",
       "      <td>2</td>\n",
       "      <td>2</td>\n",
       "    </tr>\n",
       "    <tr>\n",
       "      <th>vjioscz tkuzoo</th>\n",
       "      <td>vjioscz</td>\n",
       "      <td>tkuzoo</td>\n",
       "      <td>Yes</td>\n",
       "      <td>Yes</td>\n",
       "      <td>Yes</td>\n",
       "      <td>2</td>\n",
       "      <td>2</td>\n",
       "    </tr>\n",
       "    <tr>\n",
       "      <th>fxuyqss aekabx</th>\n",
       "      <td>fxuyqss</td>\n",
       "      <td>aekabx</td>\n",
       "      <td>Yes</td>\n",
       "      <td>Yes</td>\n",
       "      <td>No</td>\n",
       "      <td>1</td>\n",
       "      <td>1</td>\n",
       "    </tr>\n",
       "    <tr>\n",
       "      <th>tjaeuas adhriu</th>\n",
       "      <td>tjaeuas</td>\n",
       "      <td>adhriu</td>\n",
       "      <td>No</td>\n",
       "      <td>Yes</td>\n",
       "      <td>Yes</td>\n",
       "      <td>1</td>\n",
       "      <td>1</td>\n",
       "    </tr>\n",
       "    <tr>\n",
       "      <th>rcvaieo eateee</th>\n",
       "      <td>rcvaieo</td>\n",
       "      <td>eateee</td>\n",
       "      <td>Yes</td>\n",
       "      <td>Yes</td>\n",
       "      <td>Yes</td>\n",
       "      <td>1</td>\n",
       "      <td>1</td>\n",
       "    </tr>\n",
       "  </tbody>\n",
       "</table>\n",
       "</div>"
      ],
      "text/plain": [
       "               first_name last_name time_0 time_1 time_2  preference  \\\n",
       "name                                                                   \n",
       "utyldtq utbsyj    utyldtq    utbsyj    Yes    Yes    Yes           2   \n",
       "vjioscz tkuzoo    vjioscz    tkuzoo    Yes    Yes    Yes           2   \n",
       "fxuyqss aekabx    fxuyqss    aekabx    Yes    Yes     No           1   \n",
       "tjaeuas adhriu    tjaeuas    adhriu     No    Yes    Yes           1   \n",
       "rcvaieo eateee    rcvaieo    eateee    Yes    Yes    Yes           1   \n",
       "\n",
       "                assignment  \n",
       "name                        \n",
       "utyldtq utbsyj           2  \n",
       "vjioscz tkuzoo           2  \n",
       "fxuyqss aekabx           1  \n",
       "tjaeuas adhriu           1  \n",
       "rcvaieo eateee           1  "
      ]
     },
     "execution_count": 4,
     "metadata": {},
     "output_type": "execute_result"
    }
   ],
   "source": [
    "students = pd.read_csv('responses.csv', header=None)\n",
    "\n",
    "n_timeslots = students.shape[1] - 3\n",
    "\n",
    "students.columns = ['first_name', 'last_name'] + [f'time_{i}' for i in range(n_timeslots)] + ['preference']\n",
    "students = (students.assign(name=students.first_name + ' ' + students.last_name)\n",
    "        .assign(assignment=students.preference)\n",
    "        .set_index('name'))\n",
    "\n",
    "students.head()"
   ]
  },
  {
   "cell_type": "code",
   "execution_count": 5,
   "metadata": {
    "ExecuteTime": {
     "end_time": "2017-09-06T02:27:16.747722Z",
     "start_time": "2017-09-06T02:27:16.620862Z"
    }
   },
   "outputs": [],
   "source": [
    "# for the students who didn't respond to the survey, just assign them to the classes that need more students\n",
    "\n",
    "students_no_answer = (pd.read_csv('names.csv', header=None, names=['last_name', 'first_name'])\n",
    "                        .assign(name=lambda df: df.first_name + ' ' + df.last_name)\n",
    "                        .pipe(lambda df: df.loc[~df.name.isin(students.index)])\n",
    "                        .assign(**{f'time_{i}': 'Yes' for i in range(n_timeslots)})\n",
    "                        .set_index('name'))\n",
    "\n",
    "assignments = []\n",
    "\n",
    "class_counts = students.assignment.value_counts()\n",
    "while len(assignments) < len(students_no_answer):\n",
    "    least_populated_class = class_counts.idxmin()\n",
    "    assignments.append(least_populated_class)\n",
    "    class_counts.loc[least_populated_class] += 1\n",
    "\n",
    "students_no_answer['assignment'] = assignments\n",
    "students_no_answer['preference'] = assignments\n",
    "students = pd.concat([students, students_no_answer]).sort_values('last_name').drop(['first_name', 'last_name'], axis=1)\n",
    "\n",
    "n_students = len(students)\n",
    "assert students.index.nunique() == len(students) # ensure that names are unique"
   ]
  },
  {
   "cell_type": "code",
   "execution_count": 6,
   "metadata": {
    "ExecuteTime": {
     "end_time": "2017-09-06T02:27:17.603425Z",
     "start_time": "2017-09-06T02:27:17.499695Z"
    }
   },
   "outputs": [],
   "source": [
    "students_reassigned = []\n",
    "\n",
    "def plot():\n",
    "    display.clear_output(wait=True)\n",
    "    n_first_choice = (students.preference == students.assignment).sum()\n",
    "\n",
    "    fig, ax = plt.subplots(ncols=2)\n",
    "\n",
    "    pd.Series([n_first_choice, n_students - n_first_choice], index=['First Choice', 'Other']).plot.bar(ax=ax[0])\n",
    "    students.assignment.value_counts().plot.bar(ax=ax[1])\n",
    "\n",
    "def on_forward(x):\n",
    "    # if there are ties, we just pick the first one\n",
    "    class_counts = students.assignment.value_counts()\n",
    "    most_populated_class = class_counts.index[0]\n",
    "    least_populated_class = class_counts.index[-1]\n",
    "    \n",
    "    if class_counts.loc[most_populated_class] - class_counts.loc[least_populated_class]  > 1:\n",
    "        student_to_move = students[(students.assignment == most_populated_class) &\n",
    "                                   (students[f'time_{least_populated_class}'] == 'Yes')]\\\n",
    "                                  .sample().index[0]\n",
    "        students.loc[student_to_move, 'assignment'] = least_populated_class\n",
    "        students_reassigned.append(student_to_move)\n",
    "        plot()\n",
    "\n",
    "def on_backward(x):\n",
    "    if students_reassigned:\n",
    "        student_reassigned = students_reassigned.pop()\n",
    "        students.loc[student_reassigned, 'assignment'] = students.loc[student_reassigned, 'preference']\n",
    "        plot()"
   ]
  },
  {
   "cell_type": "code",
   "execution_count": 7,
   "metadata": {
    "ExecuteTime": {
     "end_time": "2017-09-06T02:27:19.136989Z",
     "start_time": "2017-09-06T02:27:18.360730Z"
    }
   },
   "outputs": [
    {
     "data": {
      "image/png": "[encoded data removed]",
      "text/plain": [
       "<matplotlib.figure.Figure at 0x7f411bf382e8>"
      ]
     },
     "metadata": {},
     "output_type": "display_data"
    }
   ],
   "source": [
    "# use the right arrow to assign people from the most populated class to the least populated one\n",
    "# use the left arrow to undo these assignments\n",
    "# once you're happy with the balance between class size and number of people getting their first choice,\n",
    "# move on to the next cell to save the data\n",
    "\n",
    "forward = Button(icon='angle-right')\n",
    "backward = Button(icon='angle-left')\n",
    "buttons = Box([backward, forward])\n",
    "\n",
    "forward.on_click(on_forward)\n",
    "backward.on_click(on_backward)\n",
    "\n",
    "plot()\n",
    "\n",
    "buttons"
   ]
  },
  {
   "cell_type": "code",
   "execution_count": 8,
   "metadata": {
    "ExecuteTime": {
     "end_time": "2017-09-06T02:27:28.418570Z",
     "start_time": "2017-09-06T02:27:28.396836Z"
    }
   },
   "outputs": [
    {
     "data": {
      "text/html": [
       "<div>\n",
       "<style>\n",
       "    .dataframe thead tr:only-child th {\n",
       "        text-align: right;\n",
       "    }\n",
       "\n",
       "    .dataframe thead th {\n",
       "        text-align: left;\n",
       "    }\n",
       "\n",
       "    .dataframe tbody tr th {\n",
       "        vertical-align: top;\n",
       "    }\n",
       "</style>\n",
       "<table border=\"1\" class=\"dataframe\">\n",
       "  <thead>\n",
       "    <tr style=\"text-align: right;\">\n",
       "      <th></th>\n",
       "      <th>assignment</th>\n",
       "      <th>preference</th>\n",
       "      <th>time_0</th>\n",
       "      <th>time_1</th>\n",
       "      <th>time_2</th>\n",
       "    </tr>\n",
       "    <tr>\n",
       "      <th>name</th>\n",
       "      <th></th>\n",
       "      <th></th>\n",
       "      <th></th>\n",
       "      <th></th>\n",
       "      <th></th>\n",
       "    </tr>\n",
       "  </thead>\n",
       "  <tbody>\n",
       "    <tr>\n",
       "      <th>tjaeuas adhriu</th>\n",
       "      <td>11 AM</td>\n",
       "      <td>1</td>\n",
       "      <td>No</td>\n",
       "      <td>Yes</td>\n",
       "      <td>Yes</td>\n",
       "    </tr>\n",
       "    <tr>\n",
       "      <th>fxuyqss aekabx</th>\n",
       "      <td>11 AM</td>\n",
       "      <td>1</td>\n",
       "      <td>Yes</td>\n",
       "      <td>Yes</td>\n",
       "      <td>No</td>\n",
       "    </tr>\n",
       "    <tr>\n",
       "      <th>drineru aezfop</th>\n",
       "      <td>11 AM</td>\n",
       "      <td>1</td>\n",
       "      <td>Yes</td>\n",
       "      <td>Yes</td>\n",
       "      <td>Yes</td>\n",
       "    </tr>\n",
       "    <tr>\n",
       "      <th>geatuum agcpzx</th>\n",
       "      <td>10 AM</td>\n",
       "      <td>0</td>\n",
       "      <td>Yes</td>\n",
       "      <td>Yes</td>\n",
       "      <td>No</td>\n",
       "    </tr>\n",
       "    <tr>\n",
       "      <th>toajckn arcuht</th>\n",
       "      <td>11 AM</td>\n",
       "      <td>1</td>\n",
       "      <td>Yes</td>\n",
       "      <td>Yes</td>\n",
       "      <td>Yes</td>\n",
       "    </tr>\n",
       "  </tbody>\n",
       "</table>\n",
       "</div>"
      ],
      "text/plain": [
       "               assignment  preference time_0 time_1 time_2\n",
       "name                                                      \n",
       "tjaeuas adhriu      11 AM           1     No    Yes    Yes\n",
       "fxuyqss aekabx      11 AM           1    Yes    Yes     No\n",
       "drineru aezfop      11 AM           1    Yes    Yes    Yes\n",
       "geatuum agcpzx      10 AM           0    Yes    Yes     No\n",
       "toajckn arcuht      11 AM           1    Yes    Yes    Yes"
      ]
     },
     "execution_count": 8,
     "metadata": {},
     "output_type": "execute_result"
    }
   ],
   "source": [
    "# you can use this to get things in a nice format to export\n",
    "\n",
    "assignment_dict = {\n",
    "    0: '10 AM',\n",
    "    1: '11 AM',\n",
    "    2: '12 PM'\n",
    "}\n",
    "\n",
    "students = students.replace({'assignment': assignment_dict})\n",
    "students.head()"
   ]
  },
  {
   "cell_type": "code",
   "execution_count": 9,
   "metadata": {
    "ExecuteTime": {
     "end_time": "2017-09-06T02:27:29.764050Z",
     "start_time": "2017-09-06T02:27:29.755271Z"
    }
   },
   "outputs": [],
   "source": [
    "# if you want a csv\n",
    "students.assignment.to_csv('assignments.csv', header=None)"
   ]
  },
  {
   "cell_type": "code",
   "execution_count": 10,
   "metadata": {
    "ExecuteTime": {
     "end_time": "2017-09-06T02:27:32.149197Z",
     "start_time": "2017-09-06T02:27:31.907437Z"
    }
   },
   "outputs": [
    {
     "name": "stdout",
     "output_type": "stream",
     "text": [
      "tjaeuas adhriu,11 AM\r\n",
      "fxuyqss aekabx,11 AM\r\n",
      "drineru aezfop,11 AM\r\n",
      "geatuum agcpzx,10 AM\r\n",
      "toajckn arcuht,11 AM\r\n",
      "fzaytti arwjis,11 AM\r\n",
      "eodiibj bhuvmo,11 AM\r\n",
      "reuvscx casius,10 AM\r\n",
      "kizbves ddmyht,10 AM\r\n",
      "esesdqu dpoicr,10 AM\r\n"
     ]
    }
   ],
   "source": [
    "! head assignments.csv"
   ]
  }
 ],
 "metadata": {
  "hide_input": false,
  "kernelspec": {
   "display_name": "Python 3",
   "language": "python",
   "name": "python3"
  },
  "language_info": {
   "codemirror_mode": {
    "name": "ipython",
    "version": 3
   },
   "file_extension": ".py",
   "mimetype": "text/x-python",
   "name": "python",
   "nbconvert_exporter": "python",
   "pygments_lexer": "ipython3",
   "version": "3.6.1"
  },
  "toc": {
   "colors": {
    "hover_highlight": "#DAA520",
    "navigate_num": "#000000",
    "navigate_text": "#333333",
    "running_highlight": "#FF0000",
    "selected_highlight": "#FFD700",
    "sidebar_border": "#EEEEEE",
    "wrapper_background": "#FFFFFF"
   },
   "moveMenuLeft": true,
   "nav_menu": {
    "height": "4px",
    "width": "253px"
   },
   "navigate_menu": true,
   "number_sections": true,
   "sideBar": true,
   "threshold": 4,
   "toc_cell": false,
   "toc_section_display": "block",
   "toc_window_display": false,
   "widenNotebook": false
  },
  "varInspector": {
   "cols": {
    "lenName": 16,
    "lenType": 16,
    "lenVar": 40
   },
   "kernels_config": {
    "python": {
     "delete_cmd_postfix": "",
     "delete_cmd_prefix": "del ",
     "library": "var_list.py",
     "varRefreshCmd": "print(var_dic_list())"
    },
    "r": {
     "delete_cmd_postfix": ") ",
     "delete_cmd_prefix": "rm(",
     "library": "var_list.r",
     "varRefreshCmd": "cat(var_dic_list()) "
    }
   },
   "types_to_exclude": [
    "module",
    "function",
    "builtin_function_or_method",
    "instance",
    "_Feature"
   ],
   "window_display": false
  }
 },
 "nbformat": 4,
 "nbformat_minor": 2
}
