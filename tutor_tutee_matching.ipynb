{
 "cells": [
  {
   "cell_type": "markdown",
   "metadata": {
    "toc": "true"
   },
   "source": [
    "# Table of Contents\n",
    " <p><div class=\"lev1 toc-item\"><a href=\"#Strategy\" data-toc-modified-id=\"Strategy-1\"><span class=\"toc-item-num\">1&nbsp;&nbsp;</span>Strategy</a></div><div class=\"lev2 toc-item\"><a href=\"#Thoughts\" data-toc-modified-id=\"Thoughts-11\"><span class=\"toc-item-num\">1.1&nbsp;&nbsp;</span>Thoughts</a></div><div class=\"lev1 toc-item\"><a href=\"#Sample-Data-Generation\" data-toc-modified-id=\"Sample-Data-Generation-2\"><span class=\"toc-item-num\">2&nbsp;&nbsp;</span>Sample Data Generation</a></div><div class=\"lev1 toc-item\"><a href=\"#Data-Loading,-Validation,-and-Prep\" data-toc-modified-id=\"Data-Loading,-Validation,-and-Prep-3\"><span class=\"toc-item-num\">3&nbsp;&nbsp;</span>Data Loading, Validation, and Prep</a></div><div class=\"lev1 toc-item\"><a href=\"#Linear-Program\" data-toc-modified-id=\"Linear-Program-4\"><span class=\"toc-item-num\">4&nbsp;&nbsp;</span>Linear Program</a></div><div class=\"lev1 toc-item\"><a href=\"#Matching-Characterization\" data-toc-modified-id=\"Matching-Characterization-5\"><span class=\"toc-item-num\">5&nbsp;&nbsp;</span>Matching Characterization</a></div>"
   ]
  },
  {
   "cell_type": "code",
   "execution_count": 2,
   "metadata": {
    "collapsed": false,
    "deletable": true,
    "editable": true,
    "init_cell": true,
    "run_control": {
     "frozen": false,
     "read_only": false
    }
   },
   "outputs": [],
   "source": [
    "from __future__ import division, print_function\n",
    "import numpy as np\n",
    "import pandas as pd\n",
    "from scipy.optimize import linprog\n",
    "from ast import literal_eval\n",
    "from collections import Counter\n",
    "from itertools import product\n",
    "\n",
    "data_path = './'"
   ]
  },
  {
   "cell_type": "markdown",
   "metadata": {
    "deletable": true,
    "editable": true,
    "run_control": {
     "frozen": false,
     "read_only": false
    }
   },
   "source": [
    "# Strategy\n",
    "* Match based on priority in the tutee's class list (have a coefficient to determine how much this matters?)\n",
    "* Also prioritize \"harder\" classes: determine by # total hours of tutoring requested? (weight by # students requesting hours?)\n",
    "    * Note that this makes the system somewhat gameable: if I really want a tutor and I request 100 hours, I'm more likely to get one because my class will now be seen as \"harder\" than others\n",
    "* Match as many tutees as possible\n",
    "* If >2 hours requested, try not to assign just 1\n",
    "* Try to leave no tutors with 0 tutees\n",
    "* Max # tutees per tutor: 3\n",
    "* Max # hours/match: 3\n",
    "* Produce multiple output files (probably by changing the relative weights for the priorities above) so they can be compared\n",
    "\n",
    "\n",
    "## Thoughts\n",
    "* Max flow to maximize the number of hours of tutoring total (subject to constraints of hours available/request and classes matching) woul be quite elegant, but I can't think of a way to make it work with the desired things to prioritize (the priority for given students, for harder classes, no tutors with 0 tutees (though I don't think that would be much of an issue), and max 3 tutees per tutor; also might yield multiple tutors for a person for the same class (though the below could be used instead to help with that).\n",
    "    * Could easily set hours requested to one for each student so that this would maximize the number of students matched; then expand the hours used on tutoring matches if tutors have time remaining and more was actually requested."
   ]
  },
  {
   "cell_type": "markdown",
   "metadata": {},
   "source": [
    "# Sample Data Generation"
   ]
  },
  {
   "cell_type": "code",
   "execution_count": 2,
   "metadata": {
    "collapsed": false,
    "deletable": true,
    "editable": true,
    "run_control": {
     "frozen": false,
     "read_only": false
    }
   },
   "outputs": [],
   "source": [
    "def make_sample_files(n, path=data_path):\n",
    "    next_id = 0\n",
    "    n_tutees = n\n",
    "    n_tutors = int(0.6 * n)\n",
    "\n",
    "    classes = [6.01, 6.001, 6.005, 6.006, 6.036, 6.034, 6.046, 6.047, 6.802, 6.004, 6.002, 6.878, 6.041, 6.042]\n",
    "    classes = [str(class_) for class_ in classes]\n",
    "    class_probs = np.array([1., 1, 2, 2, 3, 2, 4, 2, 1, 2, 1, 1, 1, 2])\n",
    "    class_probs /= class_probs.sum()\n",
    "    class_ids = {classes[i]: i for i in xrange(len(classes))}\n",
    "    assert len(class_probs) == len(classes)\n",
    "    \n",
    "    ## TUTORS\n",
    "    with open(path + 'tutor_info.txt', 'w') as tutor_file:\n",
    "        tutor_file.write('\\t'.join(('id', 'name', 'classes', 'avail_hours', 'n_matches')) + '\\n')\n",
    "        for _ in xrange(n_tutors):\n",
    "            name = reduce(lambda x, y: x+y, np.random.choice(list('aaabcdeeefghiiijklmnooopqrsssttuuuvwxyyz'), size=np.random.randint(3, 10)))\n",
    "            tid = next_id = next_id + 1\n",
    "            avail_hours = np.random.choice([0, 1, 1, 1, 1, 1, 2, 2, 2, 3, 3, 4])\n",
    "            n_matches = np.random.choice([0, 0, 0, 0, 1, 1, 2, 3])\n",
    "            class_list = np.random.choice(classes, p=class_probs, replace=False,\n",
    "                                          size=np.random.choice([0, 1, 2, 3, 4, 5], p=[.01, .24, .25, .25, .15, .1]))\n",
    "            class_list = [(class_ids[class_], class_) for class_ in class_list]\n",
    "\n",
    "            tutor_file.write(\"\\t\".join((str(elem) for elem in (tid, name, class_list, avail_hours, n_matches))) + '\\n')\n",
    "    \n",
    "    ## TUTEES\n",
    "    with open(path + 'tutee_info.txt', 'w') as tutee_file:\n",
    "        tutee_file.write('\\t'.join(('id', 'name', 'classes', 'n_matches')) + '\\n')\n",
    "        for _ in xrange(n_tutors):\n",
    "            name = reduce(lambda x, y: x+y, np.random.choice(list('aaabcdeeefghiiijklmnooopqrsssttuuuvwxyyz'), size=np.random.randint(3, 10)))\n",
    "            tid = next_id = next_id + 1\n",
    "            n_matches = np.random.choice([0, 0, 0, 0, 1, 1, 2])\n",
    "            class_list = np.random.choice(classes, p=class_probs, replace=False,\n",
    "                                          size=np.random.choice([0, 1, 2, 3, 4, 5], p=[.01, .24, .25, .25, .15, .1]))\n",
    "            class_list = [(class_ids[class_], # class id\n",
    "                           class_, # class name\n",
    "                           np.random.choice([1, 2, 2, 2, 3, 3, 4, 5]), # hours requested\n",
    "                           np.random.choice([0, 0, 0, 1, 1, 2, 3])) # priority: small number -> low priority\n",
    "                          for class_ in class_list]\n",
    "\n",
    "            tutee_file.write(\"\\t\".join((str(elem) for elem in (tid, name, class_list, n_matches))) + '\\n')"
   ]
  },
  {
   "cell_type": "code",
   "execution_count": 3,
   "metadata": {
    "collapsed": false,
    "deletable": true,
    "editable": true,
    "run_control": {
     "frozen": false,
     "read_only": false
    }
   },
   "outputs": [
    {
     "name": "stdout",
     "output_type": "stream",
     "text": [
      "id\tname\tclasses\tavail_hours\tn_matches\r\n",
      "1\tuxi\t[(6, '6.046'), (1, '6.001'), (2, '6.005')]\t2\t0\r\n",
      "2\tythabdbo\t[(2, '6.005'), (6, '6.046')]\t3\t0\r\n",
      "3\tvivizvim\t[(7, '6.047'), (13, '6.042')]\t1\t1\r\n",
      "4\topr\t[(3, '6.006'), (6, '6.046'), (8, '6.802'), (11, '6.878')]\t3\t1\r\n",
      "5\tkrhohuk\t[(5, '6.034'), (1, '6.001')]\t2\t3\r\n",
      "6\tawwugiu\t[(4, '6.036'), (9, '6.004')]\t1\t0\r\n",
      "7\tjmeumvw\t[(12, '6.041'), (6, '6.046'), (7, '6.047')]\t2\t0\r\n",
      "8\tseri\t[(6, '6.046')]\t1\t1\r\n",
      "9\tiya\t[(4, '6.036'), (5, '6.034'), (9, '6.004')]\t1\t0\r\n",
      "10\tiuyszae\t[(5, '6.034'), (3, '6.006')]\t2\t0\r\n",
      "11\tahnq\t[(3, '6.006'), (8, '6.802')]\t1\t2\r\n",
      "12\txjkdzlsws\t[(6, '6.046'), (8, '6.802'), (4, '6.036')]\t0\t3\r\n",
      "13\ttvdaqi\t[(0, '6.01')]\t1\t0\r\n",
      "14\ttoa\t[(5, '6.034'), (6, '6.046')]\t1\t0\r\n",
      "15\tsqspbra\t[(3, '6.006'), (8, '6.802'), (9, '6.004'), (7, '6.047')]\t1\t0\r\n",
      "16\tuvyptsnni\t[(6, '6.046'), (13, '6.042'), (5, '6.034'), (3, '6.006'), (9, '6.004')]\t4\t1\r\n",
      "17\txbqbql\t[(4, '6.036'), (10, '6.002'), (3, '6.006'), (5, '6.034'), (6, '6.046')]\t1\t2\r\n",
      "18\tgau\t[(4, '6.036')]\t4\t1\r\n"
     ]
    }
   ],
   "source": [
    "make_sample_files(30)\n",
    "! cat $data_path/tutor_info.txt"
   ]
  },
  {
   "cell_type": "markdown",
   "metadata": {},
   "source": [
    "# Data Loading, Validation, and Prep"
   ]
  },
  {
   "cell_type": "code",
   "execution_count": 4,
   "metadata": {
    "collapsed": false,
    "deletable": true,
    "editable": true,
    "run_control": {
     "frozen": false,
     "read_only": false
    }
   },
   "outputs": [],
   "source": [
    "def load_tutor_info(verbose=True):\n",
    "    tutor_info = pd.read_csv(data_path + 'tutor_info.txt', sep='\\t', index_col=0).sort_index()\n",
    "    tutor_info.classes = tutor_info.classes.apply(literal_eval)\n",
    "\n",
    "    n_zero_hours = (tutor_info.avail_hours == 0).sum()\n",
    "    if n_zero_hours > 0:\n",
    "        if verbose:\n",
    "            print(\"{} tutors had 0 hours available and are thus being dropped.\".format(n_zero_hours))\n",
    "        tutor_info.drop(tutor_info[tutor_info.avail_hours == 0].index, inplace=True)\n",
    "\n",
    "    max_matches = 3\n",
    "    n_max_matches = (tutor_info.n_matches >= max_matches).sum()\n",
    "    if n_max_matches > 0:\n",
    "        if verbose:\n",
    "            print(\"{} tutors had {} matches already and are thus being dropped.\".format(n_max_matches, max_matches))\n",
    "        tutor_info.drop(tutor_info[tutor_info.n_matches == max_matches].index, inplace=True)\n",
    "\n",
    "    n_no_classes = (tutor_info.classes.apply(len) == 0).sum()\n",
    "    if n_no_classes > 0:\n",
    "        if verbose:\n",
    "            print(\"{} tutors had an empty class list and are thus being dropped.\".format(n_no_classes))\n",
    "        tutor_info.drop(tutor_info[tutor_info.classes.apply(len) == 0].index, inplace=True)\n",
    "    return tutor_info\n",
    "\n",
    "\n",
    "def load_tutee_info(verbose=True):\n",
    "    tutee_info = pd.read_csv(data_path + 'tutee_info.txt', sep='\\t', index_col=0).sort_index()\n",
    "    tutee_info.classes = tutee_info.classes.apply(literal_eval)\n",
    "\n",
    "    n_no_classes = (tutee_info.classes.apply(len) == 0).sum()\n",
    "    if n_no_classes > 0:\n",
    "        if verbose:\n",
    "            print(\"{} tutees had an empty class list and are thus being dropped.\".format(n_no_classes))\n",
    "        tutee_info.drop(tutee_info[tutee_info.classes.apply(len) == 0].index, inplace=True)\n",
    "\n",
    "    return tutee_info"
   ]
  },
  {
   "cell_type": "code",
   "execution_count": 5,
   "metadata": {
    "collapsed": false,
    "deletable": true,
    "editable": true,
    "run_control": {
     "frozen": false,
     "read_only": false
    }
   },
   "outputs": [
    {
     "name": "stdout",
     "output_type": "stream",
     "text": [
      "1 tutors had 0 hours available and are thus being dropped.\n",
      "1 tutors had 3 matches already and are thus being dropped.\n"
     ]
    },
    {
     "data": {
      "text/html": [
       "<div>\n",
       "<table border=\"1\" class=\"dataframe\">\n",
       "  <thead>\n",
       "    <tr style=\"text-align: right;\">\n",
       "      <th></th>\n",
       "      <th>name</th>\n",
       "      <th>classes</th>\n",
       "      <th>avail_hours</th>\n",
       "      <th>n_matches</th>\n",
       "    </tr>\n",
       "    <tr>\n",
       "      <th>id</th>\n",
       "      <th></th>\n",
       "      <th></th>\n",
       "      <th></th>\n",
       "      <th></th>\n",
       "    </tr>\n",
       "  </thead>\n",
       "  <tbody>\n",
       "    <tr>\n",
       "      <th>1</th>\n",
       "      <td>uxi</td>\n",
       "      <td>[(6, 6.046), (1, 6.001), (2, 6.005)]</td>\n",
       "      <td>2</td>\n",
       "      <td>0</td>\n",
       "    </tr>\n",
       "    <tr>\n",
       "      <th>2</th>\n",
       "      <td>ythabdbo</td>\n",
       "      <td>[(2, 6.005), (6, 6.046)]</td>\n",
       "      <td>3</td>\n",
       "      <td>0</td>\n",
       "    </tr>\n",
       "    <tr>\n",
       "      <th>3</th>\n",
       "      <td>vivizvim</td>\n",
       "      <td>[(7, 6.047), (13, 6.042)]</td>\n",
       "      <td>1</td>\n",
       "      <td>1</td>\n",
       "    </tr>\n",
       "    <tr>\n",
       "      <th>4</th>\n",
       "      <td>opr</td>\n",
       "      <td>[(3, 6.006), (6, 6.046), (8, 6.802), (11, 6.878)]</td>\n",
       "      <td>3</td>\n",
       "      <td>1</td>\n",
       "    </tr>\n",
       "    <tr>\n",
       "      <th>6</th>\n",
       "      <td>awwugiu</td>\n",
       "      <td>[(4, 6.036), (9, 6.004)]</td>\n",
       "      <td>1</td>\n",
       "      <td>0</td>\n",
       "    </tr>\n",
       "  </tbody>\n",
       "</table>\n",
       "</div>"
      ],
      "text/plain": [
       "        name                                            classes  avail_hours  \\\n",
       "id                                                                             \n",
       "1        uxi               [(6, 6.046), (1, 6.001), (2, 6.005)]            2   \n",
       "2   ythabdbo                           [(2, 6.005), (6, 6.046)]            3   \n",
       "3   vivizvim                          [(7, 6.047), (13, 6.042)]            1   \n",
       "4        opr  [(3, 6.006), (6, 6.046), (8, 6.802), (11, 6.878)]            3   \n",
       "6    awwugiu                           [(4, 6.036), (9, 6.004)]            1   \n",
       "\n",
       "    n_matches  \n",
       "id             \n",
       "1           0  \n",
       "2           0  \n",
       "3           1  \n",
       "4           1  \n",
       "6           0  "
      ]
     },
     "execution_count": 5,
     "metadata": {},
     "output_type": "execute_result"
    }
   ],
   "source": [
    "tutor_info = load_tutor_info()\n",
    "n_tutors = len(tutor_info)\n",
    "tutor_to_idx = {tutor_info.index.values[i]: i for i in xrange(n_tutors)}\n",
    "idx_to_tutor = {val: key for (key, val) in tutor_to_idx.items()}\n",
    "tutor_info.head()"
   ]
  },
  {
   "cell_type": "code",
   "execution_count": 6,
   "metadata": {
    "collapsed": false,
    "deletable": true,
    "editable": true,
    "run_control": {
     "frozen": false,
     "read_only": false
    }
   },
   "outputs": [
    {
     "data": {
      "text/html": [
       "<div>\n",
       "<table border=\"1\" class=\"dataframe\">\n",
       "  <thead>\n",
       "    <tr style=\"text-align: right;\">\n",
       "      <th></th>\n",
       "      <th>name</th>\n",
       "      <th>classes</th>\n",
       "      <th>n_matches</th>\n",
       "    </tr>\n",
       "    <tr>\n",
       "      <th>id</th>\n",
       "      <th></th>\n",
       "      <th></th>\n",
       "      <th></th>\n",
       "    </tr>\n",
       "  </thead>\n",
       "  <tbody>\n",
       "    <tr>\n",
       "      <th>19</th>\n",
       "      <td>aueps</td>\n",
       "      <td>[(6, 6.046, 3, 1), (5, 6.034, 1, 2), (3, 6.006...</td>\n",
       "      <td>0</td>\n",
       "    </tr>\n",
       "    <tr>\n",
       "      <th>20</th>\n",
       "      <td>aauz</td>\n",
       "      <td>[(12, 6.041, 5, 3), (9, 6.004, 2, 0), (3, 6.00...</td>\n",
       "      <td>0</td>\n",
       "    </tr>\n",
       "    <tr>\n",
       "      <th>21</th>\n",
       "      <td>iiaelr</td>\n",
       "      <td>[(12, 6.041, 2, 0)]</td>\n",
       "      <td>1</td>\n",
       "    </tr>\n",
       "    <tr>\n",
       "      <th>22</th>\n",
       "      <td>aweeg</td>\n",
       "      <td>[(6, 6.046, 3, 0), (4, 6.036, 2, 0), (3, 6.006...</td>\n",
       "      <td>1</td>\n",
       "    </tr>\n",
       "    <tr>\n",
       "      <th>23</th>\n",
       "      <td>aqotvyey</td>\n",
       "      <td>[(1, 6.001, 3, 0), (9, 6.004, 5, 0)]</td>\n",
       "      <td>2</td>\n",
       "    </tr>\n",
       "  </tbody>\n",
       "</table>\n",
       "</div>"
      ],
      "text/plain": [
       "        name                                            classes  n_matches\n",
       "id                                                                        \n",
       "19     aueps  [(6, 6.046, 3, 1), (5, 6.034, 1, 2), (3, 6.006...          0\n",
       "20      aauz  [(12, 6.041, 5, 3), (9, 6.004, 2, 0), (3, 6.00...          0\n",
       "21    iiaelr                                [(12, 6.041, 2, 0)]          1\n",
       "22     aweeg  [(6, 6.046, 3, 0), (4, 6.036, 2, 0), (3, 6.006...          1\n",
       "23  aqotvyey               [(1, 6.001, 3, 0), (9, 6.004, 5, 0)]          2"
      ]
     },
     "execution_count": 6,
     "metadata": {},
     "output_type": "execute_result"
    }
   ],
   "source": [
    "tutee_info = load_tutee_info()\n",
    "n_tutees = len(tutee_info)\n",
    "tutee_to_idx = {tutee_info.index.values[i]: i for i in xrange(n_tutees)}\n",
    "idx_to_tutee = {val: key for (key, val) in tutee_to_idx.items()}\n",
    "tutee_info.head()"
   ]
  },
  {
   "cell_type": "code",
   "execution_count": 7,
   "metadata": {
    "collapsed": false,
    "deletable": true,
    "editable": true,
    "run_control": {
     "frozen": false,
     "read_only": false
    }
   },
   "outputs": [
    {
     "data": {
      "text/html": [
       "<div>\n",
       "<table border=\"1\" class=\"dataframe\">\n",
       "  <thead>\n",
       "    <tr style=\"text-align: right;\">\n",
       "      <th></th>\n",
       "      <th>class_name</th>\n",
       "      <th>priority</th>\n",
       "    </tr>\n",
       "  </thead>\n",
       "  <tbody>\n",
       "    <tr>\n",
       "      <th>5</th>\n",
       "      <td>6.001</td>\n",
       "      <td>0.047619</td>\n",
       "    </tr>\n",
       "    <tr>\n",
       "      <th>6</th>\n",
       "      <td>6.002</td>\n",
       "      <td>0.031746</td>\n",
       "    </tr>\n",
       "    <tr>\n",
       "      <th>8</th>\n",
       "      <td>6.004</td>\n",
       "      <td>0.206349</td>\n",
       "    </tr>\n",
       "    <tr>\n",
       "      <th>7</th>\n",
       "      <td>6.005</td>\n",
       "      <td>0.071429</td>\n",
       "    </tr>\n",
       "    <tr>\n",
       "      <th>9</th>\n",
       "      <td>6.006</td>\n",
       "      <td>0.063492</td>\n",
       "    </tr>\n",
       "  </tbody>\n",
       "</table>\n",
       "</div>"
      ],
      "text/plain": [
       "  class_name  priority\n",
       "5      6.001  0.047619\n",
       "6      6.002  0.031746\n",
       "8      6.004  0.206349\n",
       "7      6.005  0.071429\n",
       "9      6.006  0.063492"
      ]
     },
     "execution_count": 7,
     "metadata": {},
     "output_type": "execute_result"
    }
   ],
   "source": [
    "class_id_name = np.concatenate((tutee_info.classes.map(lambda class_list: [class_elem[:2] for class_elem in class_list]).values,\n",
    "                tutor_info.classes.values))\n",
    "class_to_id = {name: idx for (idx, name) in reduce(lambda x, y: x + y, class_id_name)}\n",
    "\n",
    "# the lists in classes have elements (class_id, class_name, hours_requested, priority)\n",
    "# find the total number of hours requested per class by making a dict: {name: hours} for each row, then convert\n",
    "# to a Counter so that you can sum them all together into one\n",
    "\n",
    "hours_per_class_list = tutee_info.classes.apply(lambda x: {elem[1]: elem[2] for elem in x}).values\n",
    "class_priority = sum((Counter(d) for d in hours_per_class_list), Counter())\n",
    "\n",
    "for class_ in class_to_id:\n",
    "    if class_ not in class_priority:\n",
    "        class_priority[class_] = 0 # no tutees requested this class, though there are tutors available\n",
    "\n",
    "class_priority = pd.DataFrame(class_priority.items(), columns=['class_name', 'priority']).sort_values('class_name')\n",
    "class_priority.priority /= class_priority.priority.sum()\n",
    "\n",
    "\n",
    "n_classes = len(class_priority)\n",
    "class_to_idx = {class_priority.class_name.values[i]: i for i in xrange(n_classes)}\n",
    "idx_to_class = {val: key for (key, val) in class_to_idx.items()}\n",
    "get_class_idx = np.vectorize(class_to_idx.get)\n",
    "class_priority.head()"
   ]
  },
  {
   "cell_type": "markdown",
   "metadata": {
    "deletable": true,
    "editable": true,
    "run_control": {
     "frozen": false,
     "read_only": false
    }
   },
   "source": [
    "# Linear Program\n",
    "\n",
    "This part is tricky. What we really have is a 3D tensor of shape (n_tutors, n_tutees, n_classes). The value at each cell $(i,j,k)$ of the tensor is the number of hours that tutor $T_i$ is tutoring tutee (student, hereafter) $S_j$ in class $C_k$. However, we want to represent each element of this tensor as a variable so that we can optimize the tutoring with a linear program. So, we ravel the tensor into one dimension. We just have to be careful to keep the proper order of things. We'll mentally ravel the 3D tensor into 1D in reading order: top right to bottom left, front to back. This means that students change the most quickly, then tutors, then classes. As an example:\n",
    "$$(T_0,S_0,C_0), (T_0,S_1,C_0),...,(T_1,S_0,C_0),(T_1,S_1,C_0),...,(T_0,S_0,C_1),(T_0,S_1,C_1),...$$\n",
    "We'll refer to the 1D array as $A$ (creative). If there are $n_t$ teachers, $n_s$ students, and $n_c$ classes, then we index it like:\n",
    "$$(T_i,S_j,C_k)=A_{j+n_s*i+(n_s*n_t)*c}$$\n",
    "To make this simpler to write, we may denote it $A_{i,j,k}$ at times, but the above is what is meant by that.\n",
    "\n",
    "**Objective function**\n",
    "\n",
    "We'll optimize a weighted sum of the number of hours of tutoring; it will be weighted by per class priorities (more priority to classes where more hours were requested) and the individual priorities given in the input file for particular student and class combinations. To scale how important the priorities are versus just maximizing the number of hours of tutoring, we'll use two parameters $\\lambda_c$ for priorities for entire classes and $\\lambda_s$ for priorities for particular students (in particular classes). The function to be maximized is then:\n",
    "$$\\sum_{i,j,k} A_{i,j,k} * (\\lambda_c * PC_c) * (\\lambda_s * PS_{j,k})$$\n",
    "where $PC_i$ is the priority for the $i$'th class and $PS_{i,j}$ is the priority of class $j$ for student $i$ (to make things simpler, we can scale all of the priorities by their respective $\\lambda$'s ahead of time and drop those terms in the objective function)\n",
    "\n",
    "**Constraints**\n",
    "* $A_{i,j,k}=0$ if $T_i$ or $S_j$ doesn't have $C_k$ in their classes lists.\n",
    "    * We can do this by multiplying by 0 the cells that are valid and the others by 1; then we constrain the sum to be 0. \n",
    "* The maximum number of hours per match is 3, so each cell is $\\le3$. Each cell must also be $\\ge0$, so we can just enter bounds of (0,3) (inclusive) for each variable.\n",
    "* hours requested/available\n",
    "\n",
    "\n",
    "**Desired Constraints**\n",
    "\n",
    "(but impossible to implement in this framework? Perhaps in a quadratic program?)\n",
    "These can be added post-hoc.\n",
    "* Each tutor has $\\le3$ tutees; this is a little tricky. You need a way to make each cell equal to one, then you can constrain that the sum for each tutor, across all students and classes, is $\\le3$. I don't think one can normalize the cells linearly, however."
   ]
  },
  {
   "cell_type": "code",
   "execution_count": 8,
   "metadata": {
    "collapsed": true,
    "deletable": true,
    "editable": true,
    "run_control": {
     "frozen": false,
     "read_only": false
    }
   },
   "outputs": [],
   "source": [
    "def get_idx(tutor_idx, tutee_idx, class_idx):\n",
    "    \"\"\"\n",
    "    Computes the index in the 1D array corresponding to (tutor_idx, tutee_idx, class_idx) in the\n",
    "    imagined 3D tensor\n",
    "    \"\"\"\n",
    "    assert tutor_idx < n_tutors\n",
    "    assert tutee_idx < n_tutees\n",
    "    assert class_idx < n_classes\n",
    "    return tutee_idx + n_tutees * tutor_idx + n_tutees * n_tutors * class_idx\n",
    "\n",
    "def get_triple_idx(idx):\n",
    "    \"\"\"\n",
    "    Does the inverse of get_idx: returns the (tutor_idx, tutee_idx, class_idx) corresponding to idx\n",
    "    \"\"\"\n",
    "    class_idx = 0\n",
    "    while idx - (n_tutees * n_tutors) >= 0:\n",
    "        class_idx += 1\n",
    "        idx -= (n_tutees * n_tutors)\n",
    "    \n",
    "    tutor_idx = 0\n",
    "    while idx - n_tutees >= 0:\n",
    "        tutor_idx += 1\n",
    "        idx -= n_tutees\n",
    "    tutee_idx = idx\n",
    "    return tutor_idx, tutee_idx, class_idx"
   ]
  },
  {
   "cell_type": "code",
   "execution_count": 9,
   "metadata": {
    "collapsed": false,
    "deletable": true,
    "editable": true,
    "run_control": {
     "frozen": false,
     "read_only": false
    }
   },
   "outputs": [],
   "source": [
    "n_variables = n_tutors * n_tutees * n_classes\n",
    "max_hours = 3\n",
    "var_bounds = (0, max_hours) # same bounds for all variables"
   ]
  },
  {
   "cell_type": "code",
   "execution_count": 10,
   "metadata": {
    "collapsed": false,
    "deletable": true,
    "editable": true,
    "run_control": {
     "frozen": false,
     "read_only": false
    }
   },
   "outputs": [],
   "source": [
    "class_list_bound = 0\n",
    "class_list_constraint = np.ones((1, n_variables)) # set indices to 0 where the proposed matchings are valid\n",
    "\n",
    "for tutor_idx in xrange(n_tutors):\n",
    "    tutor_class_indices = get_class_idx([elem[1] for elem in tutor_info.classes.iloc[tutor_idx]]) # elem[1] is class name\n",
    "    for class_idx in tutor_class_indices:\n",
    "        for tutee_idx in xrange(n_tutees):\n",
    "            tutee_class_indices = get_class_idx([elem[1] for elem in tutee_info.classes.iloc[tutee_idx]])\n",
    "            if class_idx in tutee_class_indices:\n",
    "                class_list_constraint[0, get_idx(tutor_idx, tutee_idx, class_idx)] = 0"
   ]
  },
  {
   "cell_type": "code",
   "execution_count": 11,
   "metadata": {
    "collapsed": true,
    "deletable": true,
    "editable": true,
    "run_control": {
     "frozen": false,
     "read_only": false
    }
   },
   "outputs": [],
   "source": [
    "# hours requested/available bounds\n",
    "# similar to above but tutees need one constraint per class (# hours requested is per class)\n",
    "\n",
    "hours_constraints = []\n",
    "hours_bounds = []\n",
    "\n",
    "for tutor_idx in xrange(n_tutors):\n",
    "    class_indices = get_class_idx([elem[1] for elem in tutor_info.classes.iloc[tutor_idx]]) # elem[1] is class name\n",
    "    hours_bounds.append(tutor_info.avail_hours.iloc[tutor_idx])\n",
    "    constraint = np.zeros((1, n_variables)) # set indices to 1 where the proposed class is valid for this tutor\n",
    "    for class_idx in class_indices:\n",
    "        for tutee_idx in xrange(n_tutees):\n",
    "            constraint[0, get_idx(tutor_idx, tutee_idx, class_idx)] = 1\n",
    "    hours_constraints.append(constraint)\n",
    "\n",
    "for tutee_idx in xrange(n_tutees):\n",
    "    class_indices = get_class_idx([elem[1] for elem in tutee_info.classes.iloc[tutee_idx]]) # elem[1] is class name\n",
    "    hours_requested = [elem[2] for elem in tutee_info.classes.iloc[tutee_idx]]\n",
    "    for i in xrange(len(class_indices)):\n",
    "        class_idx = class_indices[i]\n",
    "        hours_bounds.append(hours_requested[i])\n",
    "        constraint = np.zeros((1, n_variables)) # set indices to 1 where the proposed class is valid for this tutee\n",
    "        for tutor_idx in xrange(n_tutors):\n",
    "            constraint[0, get_idx(tutor_idx, tutee_idx, class_idx)] = 1\n",
    "        hours_constraints.append(constraint)\n",
    "\n",
    "hours_constraints = np.concatenate(hours_constraints, axis=0)\n",
    "hours_bounds = np.array(hours_bounds)"
   ]
  },
  {
   "cell_type": "code",
   "execution_count": 130,
   "metadata": {
    "collapsed": true,
    "deletable": true,
    "editable": true,
    "run_control": {
     "frozen": false,
     "read_only": false
    }
   },
   "outputs": [],
   "source": [
    "def get_objective(lambda_classes, lambda_students):\n",
    "    # scale priorities by lambdas\n",
    "    scaled_class_priorities = lambda_classes * class_priority.priority.values\n",
    "    objective_function = np.ones(n_variables)\n",
    "\n",
    "    for class_idx in xrange(n_classes):\n",
    "        priority = scaled_class_priorities[class_idx]\n",
    "        if priority > 1:\n",
    "            print(priority)\n",
    "        for tutor_idx in xrange(n_tutors):\n",
    "            for tutee_idx in xrange(n_tutees):\n",
    "                objective_function[get_idx(tutor_idx, tutee_idx, class_idx)] *= priority\n",
    "\n",
    "    for tutee_idx in xrange(n_tutees):\n",
    "        class_indices = get_class_idx([elem[1] for elem in tutee_info.classes.iloc[tutee_idx]]) # elem[1] is class name\n",
    "        priorities = [elem[3] for elem in tutee_info.classes.iloc[tutee_idx]]\n",
    "        for i in xrange(len(class_indices)):\n",
    "            class_idx = class_indices[i]\n",
    "            priority = lambda_students * (1 + priorities[i]) # so priority of 0 -> 1\n",
    "            for tutor_idx in xrange(n_tutors):\n",
    "                before = objective_function[get_idx(tutor_idx, tutee_idx, class_idx)]\n",
    "                objective_function[get_idx(tutor_idx, tutee_idx, class_idx)] *= priority\n",
    "                after = objective_function[get_idx(tutor_idx, tutee_idx, class_idx)]\n",
    "    return objective_function\n",
    "\n",
    "\n",
    "def solve(objective_function):\n",
    "    solution = linprog(-objective_function, options={'disp': True},\n",
    "                       A_ub=hours_constraints, b_ub=hours_bounds,\n",
    "                       A_eq=class_list_constraint, b_eq=class_list_bound)\n",
    "    if solution.x.max() > max_hours:\n",
    "        print('Quick solution exceeded max_hours ({} hours in a matching; max is {}).'.format(solution.x.max(), max_hours))\n",
    "        print('Running slower, bounded program.')\n",
    "        solution = linprog(-objective_function, bounds=(0, max_hours), options={'disp': True},\n",
    "                           A_ub=hours_constraints, b_ub=hours_bounds,\n",
    "                           A_eq=class_list_constraint, b_eq=class_list_bound)\n",
    "    return solution"
   ]
  },
  {
   "cell_type": "code",
   "execution_count": 131,
   "metadata": {
    "collapsed": false,
    "deletable": true,
    "editable": true,
    "run_control": {
     "frozen": false,
     "read_only": false
    }
   },
   "outputs": [
    {
     "name": "stdout",
     "output_type": "stream",
     "text": [
      "Optimization terminated successfully.\n",
      "         Current function value: -37.966667  \n",
      "         Iterations: 47\n",
      "CPU times: user 94 ms, sys: 1.55 ms, total: 95.5 ms\n",
      "Wall time: 93.7 ms\n"
     ]
    }
   ],
   "source": [
    "%%time\n",
    "objective_function = get_objective(2, 2)\n",
    "solution = solve(objective_function)"
   ]
  },
  {
   "cell_type": "code",
   "execution_count": 132,
   "metadata": {
    "collapsed": false,
    "deletable": true,
    "editable": true,
    "run_control": {
     "frozen": false,
     "read_only": false
    }
   },
   "outputs": [
    {
     "data": {
      "text/plain": [
       "array([ 3.,  4.,  1.,  1.,  2.,  2.,  2.,  1.,  3.,  2.,  2.,  2.,  1.,\n",
       "        1.,  2.,  1.,  1.,  1.])"
      ]
     },
     "execution_count": 132,
     "metadata": {},
     "output_type": "execute_result"
    }
   ],
   "source": [
    "solution.x[solution.x > 0]"
   ]
  },
  {
   "cell_type": "code",
   "execution_count": 78,
   "metadata": {
    "collapsed": true,
    "deletable": true,
    "editable": true,
    "run_control": {
     "frozen": false,
     "read_only": false
    }
   },
   "outputs": [],
   "source": [
    "def get_matching(solution, i=0, save=False):\n",
    "    \"\"\"\n",
    "    :param solution: returned from scipy.optimize.linprog\n",
    "    :param i: number of this matching; used to name the saved file\n",
    "    \"\"\"\n",
    "    matched_indices = np.argwhere(solution.x != 0).ravel()\n",
    "    matches = []\n",
    "    for matched_idx in matched_indices:\n",
    "        tutor_idx, tutee_idx, class_idx = get_triple_idx(matched_idx)\n",
    "        tutor_id = idx_to_tutor[tutor_idx]\n",
    "        tutor_name = tutor_info.name.loc[tutor_id]\n",
    "        tutee_id = idx_to_tutee[tutee_idx]\n",
    "        tutee_name = tutee_info.name.loc[tutee_id]\n",
    "        class_name = idx_to_class[class_idx]\n",
    "        class_id = class_to_id[class_name]\n",
    "        n_hours = solution.x[matched_idx]\n",
    "        matches.append([tutor_id, tutor_name, tutee_id, tutee_name, class_id, class_name, n_hours])\n",
    "    matches = pd.DataFrame(matches,\n",
    "                           columns=['tutor_id', 'tutor_name', 'tutee_id', 'tutee_name', 'class_id', 'class_name', 'n_hours'])\n",
    "    if save:\n",
    "        matches.to_csv(data_path + 'matches_{}.tsv'.format(i), sep='\\t', index=False)\n",
    "    return matches"
   ]
  },
  {
   "cell_type": "code",
   "execution_count": 79,
   "metadata": {
    "collapsed": false,
    "deletable": true,
    "editable": true,
    "run_control": {
     "frozen": false,
     "read_only": false
    }
   },
   "outputs": [
    {
     "data": {
      "text/html": [
       "<div>\n",
       "<table border=\"1\" class=\"dataframe\">\n",
       "  <thead>\n",
       "    <tr style=\"text-align: right;\">\n",
       "      <th></th>\n",
       "      <th>tutor_id</th>\n",
       "      <th>tutor_name</th>\n",
       "      <th>tutee_id</th>\n",
       "      <th>tutee_name</th>\n",
       "      <th>class_id</th>\n",
       "      <th>class_name</th>\n",
       "      <th>n_hours</th>\n",
       "    </tr>\n",
       "  </thead>\n",
       "  <tbody>\n",
       "    <tr>\n",
       "      <th>0</th>\n",
       "      <td>3</td>\n",
       "      <td>csi</td>\n",
       "      <td>34</td>\n",
       "      <td>graihjn</td>\n",
       "      <td>2</td>\n",
       "      <td>6.005</td>\n",
       "      <td>3</td>\n",
       "    </tr>\n",
       "    <tr>\n",
       "      <th>1</th>\n",
       "      <td>13</td>\n",
       "      <td>esye</td>\n",
       "      <td>28</td>\n",
       "      <td>azusszo</td>\n",
       "      <td>0</td>\n",
       "      <td>6.01</td>\n",
       "      <td>1</td>\n",
       "    </tr>\n",
       "    <tr>\n",
       "      <th>2</th>\n",
       "      <td>13</td>\n",
       "      <td>esye</td>\n",
       "      <td>32</td>\n",
       "      <td>iaigstsee</td>\n",
       "      <td>5</td>\n",
       "      <td>6.034</td>\n",
       "      <td>3</td>\n",
       "    </tr>\n",
       "    <tr>\n",
       "      <th>3</th>\n",
       "      <td>1</td>\n",
       "      <td>ieaiqs</td>\n",
       "      <td>35</td>\n",
       "      <td>iktwiaaia</td>\n",
       "      <td>4</td>\n",
       "      <td>6.036</td>\n",
       "      <td>1</td>\n",
       "    </tr>\n",
       "    <tr>\n",
       "      <th>4</th>\n",
       "      <td>7</td>\n",
       "      <td>xraveukp</td>\n",
       "      <td>35</td>\n",
       "      <td>iktwiaaia</td>\n",
       "      <td>4</td>\n",
       "      <td>6.036</td>\n",
       "      <td>1</td>\n",
       "    </tr>\n",
       "  </tbody>\n",
       "</table>\n",
       "</div>"
      ],
      "text/plain": [
       "   tutor_id tutor_name  tutee_id tutee_name  class_id class_name  n_hours\n",
       "0         3        csi        34    graihjn         2      6.005        3\n",
       "1        13       esye        28    azusszo         0       6.01        1\n",
       "2        13       esye        32  iaigstsee         5      6.034        3\n",
       "3         1     ieaiqs        35  iktwiaaia         4      6.036        1\n",
       "4         7   xraveukp        35  iktwiaaia         4      6.036        1"
      ]
     },
     "execution_count": 79,
     "metadata": {},
     "output_type": "execute_result"
    }
   ],
   "source": [
    "matches = get_matching(solution)\n",
    "matches.head()"
   ]
  },
  {
   "cell_type": "code",
   "execution_count": 93,
   "metadata": {
    "collapsed": false,
    "deletable": true,
    "editable": true,
    "run_control": {
     "frozen": false,
     "read_only": false
    }
   },
   "outputs": [],
   "source": [
    "lambda_classes = [2, 5]\n",
    "lambda_students = [2, 3]\n",
    "use_product = True\n",
    "if use_product:\n",
    "    lambdas = product(lambda_classes, lambda_students)\n",
    "else:\n",
    "    lambdas = zip(lambda_classes, lambda_students)\n",
    "\n",
    "for i in xrange(len(lambdas)):\n",
    "    objective_function = get_objective(*lambdas[i])\n",
    "    solution = \n",
    "    write_matching(solution)"
   ]
  },
  {
   "cell_type": "markdown",
   "metadata": {
    "collapsed": true,
    "deletable": true,
    "editable": true,
    "run_control": {
     "frozen": false,
     "read_only": false
    }
   },
   "source": [
    "# Matching Characterization"
   ]
  },
  {
   "cell_type": "code",
   "execution_count": 4,
   "metadata": {
    "collapsed": false,
    "deletable": true,
    "editable": true,
    "run_control": {
     "frozen": false,
     "read_only": false
    }
   },
   "outputs": [
    {
     "data": {
      "text/html": [
       "<div>\n",
       "<table border=\"1\" class=\"dataframe\">\n",
       "  <thead>\n",
       "    <tr style=\"text-align: right;\">\n",
       "      <th></th>\n",
       "      <th>tutor_id</th>\n",
       "      <th>tutor_name</th>\n",
       "      <th>tutee_id</th>\n",
       "      <th>tutee_name</th>\n",
       "      <th>class_id</th>\n",
       "      <th>class_name</th>\n",
       "      <th>n_hours</th>\n",
       "    </tr>\n",
       "  </thead>\n",
       "  <tbody>\n",
       "    <tr>\n",
       "      <th>0</th>\n",
       "      <td>6</td>\n",
       "      <td>awwugiu</td>\n",
       "      <td>28</td>\n",
       "      <td>ewrmx</td>\n",
       "      <td>9</td>\n",
       "      <td>6.004</td>\n",
       "      <td>1</td>\n",
       "    </tr>\n",
       "    <tr>\n",
       "      <th>1</th>\n",
       "      <td>9</td>\n",
       "      <td>iya</td>\n",
       "      <td>28</td>\n",
       "      <td>ewrmx</td>\n",
       "      <td>9</td>\n",
       "      <td>6.004</td>\n",
       "      <td>1</td>\n",
       "    </tr>\n",
       "    <tr>\n",
       "      <th>2</th>\n",
       "      <td>15</td>\n",
       "      <td>sqspbra</td>\n",
       "      <td>28</td>\n",
       "      <td>ewrmx</td>\n",
       "      <td>9</td>\n",
       "      <td>6.004</td>\n",
       "      <td>1</td>\n",
       "    </tr>\n",
       "    <tr>\n",
       "      <th>3</th>\n",
       "      <td>16</td>\n",
       "      <td>uvyptsnni</td>\n",
       "      <td>25</td>\n",
       "      <td>gosiervyd</td>\n",
       "      <td>9</td>\n",
       "      <td>6.004</td>\n",
       "      <td>2</td>\n",
       "    </tr>\n",
       "    <tr>\n",
       "      <th>4</th>\n",
       "      <td>16</td>\n",
       "      <td>uvyptsnni</td>\n",
       "      <td>28</td>\n",
       "      <td>ewrmx</td>\n",
       "      <td>9</td>\n",
       "      <td>6.004</td>\n",
       "      <td>2</td>\n",
       "    </tr>\n",
       "  </tbody>\n",
       "</table>\n",
       "</div>"
      ],
      "text/plain": [
       "   tutor_id tutor_name  tutee_id tutee_name  class_id  class_name  n_hours\n",
       "0         6    awwugiu        28      ewrmx         9       6.004        1\n",
       "1         9        iya        28      ewrmx         9       6.004        1\n",
       "2        15    sqspbra        28      ewrmx         9       6.004        1\n",
       "3        16  uvyptsnni        25  gosiervyd         9       6.004        2\n",
       "4        16  uvyptsnni        28      ewrmx         9       6.004        2"
      ]
     },
     "execution_count": 4,
     "metadata": {},
     "output_type": "execute_result"
    }
   ],
   "source": [
    "matching = pd.read_csv('matches_1.tsv', sep='\\t')\n",
    "matching.head()"
   ]
  },
  {
   "cell_type": "code",
   "execution_count": 11,
   "metadata": {
    "collapsed": false
   },
   "outputs": [
    {
     "data": {
      "text/plain": [
       "1     1\n",
       "2     2\n",
       "3     1\n",
       "4     2\n",
       "6     1\n",
       "7     1\n",
       "8     1\n",
       "9     1\n",
       "10    2\n",
       "11    1\n",
       "13    1\n",
       "14    1\n",
       "15    1\n",
       "16    2\n",
       "17    1\n",
       "18    2\n",
       "Name: tutor_id, dtype: int64"
      ]
     },
     "execution_count": 11,
     "metadata": {},
     "output_type": "execute_result"
    }
   ],
   "source": [
    "matching.tutor_id.value_counts().sort_index()"
   ]
  },
  {
   "cell_type": "code",
   "execution_count": 9,
   "metadata": {
    "collapsed": false
   },
   "outputs": [
    {
     "data": {
      "text/plain": [
       "(16,)"
      ]
     },
     "execution_count": 9,
     "metadata": {},
     "output_type": "execute_result"
    }
   ],
   "source": [
    "matching.tutor_id.unique().shape"
   ]
  },
  {
   "cell_type": "code",
   "execution_count": 7,
   "metadata": {
    "collapsed": false,
    "deletable": true,
    "editable": true,
    "run_control": {
     "frozen": false,
     "read_only": false
    }
   },
   "outputs": [
    {
     "data": {
      "text/html": [
       "<div>\n",
       "<table border=\"1\" class=\"dataframe\">\n",
       "  <thead>\n",
       "    <tr style=\"text-align: right;\">\n",
       "      <th></th>\n",
       "      <th>name</th>\n",
       "      <th>classes</th>\n",
       "      <th>avail_hours</th>\n",
       "      <th>n_matches</th>\n",
       "    </tr>\n",
       "    <tr>\n",
       "      <th>id</th>\n",
       "      <th></th>\n",
       "      <th></th>\n",
       "      <th></th>\n",
       "      <th></th>\n",
       "    </tr>\n",
       "  </thead>\n",
       "  <tbody>\n",
       "    <tr>\n",
       "      <th>1</th>\n",
       "      <td>uxi</td>\n",
       "      <td>[(6, '6.046'), (1, '6.001'), (2, '6.005')]</td>\n",
       "      <td>2</td>\n",
       "      <td>0</td>\n",
       "    </tr>\n",
       "    <tr>\n",
       "      <th>2</th>\n",
       "      <td>ythabdbo</td>\n",
       "      <td>[(2, '6.005'), (6, '6.046')]</td>\n",
       "      <td>3</td>\n",
       "      <td>0</td>\n",
       "    </tr>\n",
       "    <tr>\n",
       "      <th>3</th>\n",
       "      <td>vivizvim</td>\n",
       "      <td>[(7, '6.047'), (13, '6.042')]</td>\n",
       "      <td>1</td>\n",
       "      <td>1</td>\n",
       "    </tr>\n",
       "    <tr>\n",
       "      <th>4</th>\n",
       "      <td>opr</td>\n",
       "      <td>[(3, '6.006'), (6, '6.046'), (8, '6.802'), (11...</td>\n",
       "      <td>3</td>\n",
       "      <td>1</td>\n",
       "    </tr>\n",
       "    <tr>\n",
       "      <th>5</th>\n",
       "      <td>krhohuk</td>\n",
       "      <td>[(5, '6.034'), (1, '6.001')]</td>\n",
       "      <td>2</td>\n",
       "      <td>3</td>\n",
       "    </tr>\n",
       "    <tr>\n",
       "      <th>6</th>\n",
       "      <td>awwugiu</td>\n",
       "      <td>[(4, '6.036'), (9, '6.004')]</td>\n",
       "      <td>1</td>\n",
       "      <td>0</td>\n",
       "    </tr>\n",
       "    <tr>\n",
       "      <th>7</th>\n",
       "      <td>jmeumvw</td>\n",
       "      <td>[(12, '6.041'), (6, '6.046'), (7, '6.047')]</td>\n",
       "      <td>2</td>\n",
       "      <td>0</td>\n",
       "    </tr>\n",
       "    <tr>\n",
       "      <th>8</th>\n",
       "      <td>seri</td>\n",
       "      <td>[(6, '6.046')]</td>\n",
       "      <td>1</td>\n",
       "      <td>1</td>\n",
       "    </tr>\n",
       "    <tr>\n",
       "      <th>9</th>\n",
       "      <td>iya</td>\n",
       "      <td>[(4, '6.036'), (5, '6.034'), (9, '6.004')]</td>\n",
       "      <td>1</td>\n",
       "      <td>0</td>\n",
       "    </tr>\n",
       "    <tr>\n",
       "      <th>10</th>\n",
       "      <td>iuyszae</td>\n",
       "      <td>[(5, '6.034'), (3, '6.006')]</td>\n",
       "      <td>2</td>\n",
       "      <td>0</td>\n",
       "    </tr>\n",
       "    <tr>\n",
       "      <th>11</th>\n",
       "      <td>ahnq</td>\n",
       "      <td>[(3, '6.006'), (8, '6.802')]</td>\n",
       "      <td>1</td>\n",
       "      <td>2</td>\n",
       "    </tr>\n",
       "    <tr>\n",
       "      <th>12</th>\n",
       "      <td>xjkdzlsws</td>\n",
       "      <td>[(6, '6.046'), (8, '6.802'), (4, '6.036')]</td>\n",
       "      <td>0</td>\n",
       "      <td>3</td>\n",
       "    </tr>\n",
       "    <tr>\n",
       "      <th>13</th>\n",
       "      <td>tvdaqi</td>\n",
       "      <td>[(0, '6.01')]</td>\n",
       "      <td>1</td>\n",
       "      <td>0</td>\n",
       "    </tr>\n",
       "    <tr>\n",
       "      <th>14</th>\n",
       "      <td>toa</td>\n",
       "      <td>[(5, '6.034'), (6, '6.046')]</td>\n",
       "      <td>1</td>\n",
       "      <td>0</td>\n",
       "    </tr>\n",
       "    <tr>\n",
       "      <th>15</th>\n",
       "      <td>sqspbra</td>\n",
       "      <td>[(3, '6.006'), (8, '6.802'), (9, '6.004'), (7,...</td>\n",
       "      <td>1</td>\n",
       "      <td>0</td>\n",
       "    </tr>\n",
       "    <tr>\n",
       "      <th>16</th>\n",
       "      <td>uvyptsnni</td>\n",
       "      <td>[(6, '6.046'), (13, '6.042'), (5, '6.034'), (3...</td>\n",
       "      <td>4</td>\n",
       "      <td>1</td>\n",
       "    </tr>\n",
       "    <tr>\n",
       "      <th>17</th>\n",
       "      <td>xbqbql</td>\n",
       "      <td>[(4, '6.036'), (10, '6.002'), (3, '6.006'), (5...</td>\n",
       "      <td>1</td>\n",
       "      <td>2</td>\n",
       "    </tr>\n",
       "    <tr>\n",
       "      <th>18</th>\n",
       "      <td>gau</td>\n",
       "      <td>[(4, '6.036')]</td>\n",
       "      <td>4</td>\n",
       "      <td>1</td>\n",
       "    </tr>\n",
       "  </tbody>\n",
       "</table>\n",
       "</div>"
      ],
      "text/plain": [
       "         name                                            classes  avail_hours  \\\n",
       "id                                                                              \n",
       "1         uxi         [(6, '6.046'), (1, '6.001'), (2, '6.005')]            2   \n",
       "2    ythabdbo                       [(2, '6.005'), (6, '6.046')]            3   \n",
       "3    vivizvim                      [(7, '6.047'), (13, '6.042')]            1   \n",
       "4         opr  [(3, '6.006'), (6, '6.046'), (8, '6.802'), (11...            3   \n",
       "5     krhohuk                       [(5, '6.034'), (1, '6.001')]            2   \n",
       "6     awwugiu                       [(4, '6.036'), (9, '6.004')]            1   \n",
       "7     jmeumvw        [(12, '6.041'), (6, '6.046'), (7, '6.047')]            2   \n",
       "8        seri                                     [(6, '6.046')]            1   \n",
       "9         iya         [(4, '6.036'), (5, '6.034'), (9, '6.004')]            1   \n",
       "10    iuyszae                       [(5, '6.034'), (3, '6.006')]            2   \n",
       "11       ahnq                       [(3, '6.006'), (8, '6.802')]            1   \n",
       "12  xjkdzlsws         [(6, '6.046'), (8, '6.802'), (4, '6.036')]            0   \n",
       "13     tvdaqi                                      [(0, '6.01')]            1   \n",
       "14        toa                       [(5, '6.034'), (6, '6.046')]            1   \n",
       "15    sqspbra  [(3, '6.006'), (8, '6.802'), (9, '6.004'), (7,...            1   \n",
       "16  uvyptsnni  [(6, '6.046'), (13, '6.042'), (5, '6.034'), (3...            4   \n",
       "17     xbqbql  [(4, '6.036'), (10, '6.002'), (3, '6.006'), (5...            1   \n",
       "18        gau                                     [(4, '6.036')]            4   \n",
       "\n",
       "    n_matches  \n",
       "id             \n",
       "1           0  \n",
       "2           0  \n",
       "3           1  \n",
       "4           1  \n",
       "5           3  \n",
       "6           0  \n",
       "7           0  \n",
       "8           1  \n",
       "9           0  \n",
       "10          0  \n",
       "11          2  \n",
       "12          3  \n",
       "13          0  \n",
       "14          0  \n",
       "15          0  \n",
       "16          1  \n",
       "17          2  \n",
       "18          1  "
      ]
     },
     "execution_count": 7,
     "metadata": {},
     "output_type": "execute_result"
    }
   ],
   "source": [
    "pd.read_csv('tutor_info.txt', sep='\\t', index_col=0)"
   ]
  },
  {
   "cell_type": "code",
   "execution_count": null,
   "metadata": {
    "collapsed": true
   },
   "outputs": [],
   "source": []
  }
 ],
 "metadata": {
  "kernelspec": {
   "display_name": "Usr Python",
   "language": "python",
   "name": "test"
  },
  "language_info": {
   "codemirror_mode": {
    "name": "ipython",
    "version": 2
   },
   "file_extension": ".py",
   "mimetype": "text/x-python",
   "name": "python",
   "nbconvert_exporter": "python",
   "pygments_lexer": "ipython2",
   "version": "2.7.6"
  },
  "latex_envs": {
   "LaTeX_envs_menu_present": true,
   "bibliofile": "biblio.bib",
   "cite_by": "apalike",
   "current_citInitial": 1,
   "eqLabelWithNumbers": true,
   "eqNumInitial": 1,
   "labels_anchors": false,
   "latex_user_defs": false,
   "report_style_numbering": false,
   "user_envs_cfg": false
  },
  "toc": {
   "colors": {
    "hover_highlight": "#DAA520",
    "running_highlight": "#FF0000",
    "selected_highlight": "#FFD700"
   },
   "moveMenuLeft": true,
   "nav_menu": {
    "height": "11.818182px",
    "width": "1.818182px"
   },
   "navigate_menu": true,
   "number_sections": true,
   "sideBar": true,
   "threshold": 4,
   "toc_cell": true,
   "toc_section_display": "block",
   "toc_window_display": false
  }
 },
 "nbformat": 4,
 "nbformat_minor": 2
}
