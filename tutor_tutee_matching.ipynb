{
 "cells": [
  {
   "cell_type": "markdown",
   "metadata": {
    "deletable": true,
    "editable": true,
    "run_control": {
     "frozen": false,
     "read_only": false
    },
    "toc": "true"
   },
   "source": [
    "# Table of Contents\n",
    " <p><div class=\"lev1 toc-item\"><a href=\"#Strategy\" data-toc-modified-id=\"Strategy-1\"><span class=\"toc-item-num\">1&nbsp;&nbsp;</span>Strategy</a></div><div class=\"lev2 toc-item\"><a href=\"#Matching-Prioritization\" data-toc-modified-id=\"Matching-Prioritization-11\"><span class=\"toc-item-num\">1.1&nbsp;&nbsp;</span>Matching Prioritization</a></div><div class=\"lev2 toc-item\"><a href=\"#Thoughts-on-Methods\" data-toc-modified-id=\"Thoughts-on-Methods-12\"><span class=\"toc-item-num\">1.2&nbsp;&nbsp;</span>Thoughts on Methods</a></div><div class=\"lev1 toc-item\"><a href=\"#Sample-Data-Generation\" data-toc-modified-id=\"Sample-Data-Generation-2\"><span class=\"toc-item-num\">2&nbsp;&nbsp;</span>Sample Data Generation</a></div><div class=\"lev1 toc-item\"><a href=\"#Data-Loading,-Validation,-and-Prep\" data-toc-modified-id=\"Data-Loading,-Validation,-and-Prep-3\"><span class=\"toc-item-num\">3&nbsp;&nbsp;</span>Data Loading, Validation, and Prep</a></div><div class=\"lev1 toc-item\"><a href=\"#Linear-Program\" data-toc-modified-id=\"Linear-Program-4\"><span class=\"toc-item-num\">4&nbsp;&nbsp;</span>Linear Program</a></div><div class=\"lev1 toc-item\"><a href=\"#Post-processing\" data-toc-modified-id=\"Post-processing-5\"><span class=\"toc-item-num\">5&nbsp;&nbsp;</span>Post-processing</a></div><div class=\"lev1 toc-item\"><a href=\"#Matching-Characterization\" data-toc-modified-id=\"Matching-Characterization-6\"><span class=\"toc-item-num\">6&nbsp;&nbsp;</span>Matching Characterization</a></div>"
   ]
  },
  {
   "cell_type": "code",
   "execution_count": 1,
   "metadata": {
    "collapsed": false,
    "deletable": true,
    "editable": true,
    "init_cell": true,
    "run_control": {
     "frozen": false,
     "read_only": false
    }
   },
   "outputs": [],
   "source": [
    "from __future__ import division, print_function\n",
    "import numpy as np\n",
    "import pandas as pd\n",
    "from scipy.optimize import linprog\n",
    "from ast import literal_eval\n",
    "from collections import Counter\n",
    "from itertools import product\n",
    "import os\n",
    "import re\n",
    "import matching as match # the associated script file\n",
    "\n",
    "data_path = './'\n",
    "%matplotlib inline"
   ]
  },
  {
   "cell_type": "markdown",
   "metadata": {
    "deletable": true,
    "editable": true,
    "heading_collapsed": true,
    "run_control": {
     "frozen": false,
     "read_only": false
    }
   },
   "source": [
    "# Strategy\n",
    "See section 4 for the particular approach taken, using a linear program. \n",
    "\n",
    "## Matching Prioritization\n",
    "* Match tutees preferentially if they have a priority flag for a given class (have a coefficient to determine how much this matters?)\n",
    "* Also prioritize \"harder\" classes: determine by # of students requesting tutoring in that class (again, tunable how much weight this has?)\n",
    "* Match as many tutees as possible\n",
    "* If >2 hours requested, try not to assign just 1\n",
    "* Max # tutees per tutor: 3\n",
    "    * This is a little tricky. You need a way to make each cell in the tutor/tutee/class tensor equal to one, then you can constrain that the sum for each tutor, across all students and classes, is $\\le3$. If you could divide the value in each cell by itself (unless its value is 0), then you could make this work; dividing by a variable isn't possible in a linear program (LP), however.\n",
    "* Try to leave no tutors with 0 tutees\n",
    "    * This one isn't exactly possible in an LP, at least not any way that I can think to implement it. It has a similar issue to the above in that you'd have to convert the matrix for each tutor to be 0/1 so that you could add a term for the maximization of the sum of those matrices to the objective function.\n",
    "* Max # hours/match: 3\n",
    "* If tutee asks for >2 hours, don’t assign 1 hour unless necessary (can assign 2). If >4 hours, probably should assign 3 but isn’t super critical.\n",
    "    * TODO\n",
    "* Do not match people who were once matched and are now unmatched (they will have an entry in tutor_tutee_map with active=0)\n",
    "    * I never received sample input with this information, so this wasn't really considered. To implement it, you'd just need to set a constraint that the particular row  that corresponds to that tutor/tutee pair has a sum of 0.  \n",
    "* Produce multiple output files (probably by changing the relative weights for the priorities above) so they can be compared\n",
    "\n",
    "\n",
    "\n",
    "## Thoughts on Methods\n",
    "\n",
    "I couldn't think of a single algorithmic framework that would find an optimal solution to the problem while still being able to take in all of the priorities/constraints desired. I thought an LP would be best, but here are some other options as well.\n",
    "\n",
    "1. Max flow algorithm\n",
    "    * Create a graph where tutees/tutors only have connections if they have a common class. The flow out of each tutor node is restricted to their total hours available. For students, one could make one node for them for each class and restrict the flow through it to be the number of hours requested for that class. Then maximizing the flow maximizes the number of hours of tutoring.\n",
    "    * One can do a few modifications to this to prioritize things differently. If each tutee is restricted to be just one node (not one per class) with its flow restricted to 1, then this maximizes the number of matches. After an initial round, if tutors still have time left available, one could expand that time among their existing tutees.\n",
    "    * However, this framework seemed to make some of the priorities/constraints you desired difficult to implement (such as more priority being given to harder classes, more priority to certain students, etc. There are things one could try (like an initial matching round only for higher priority students or those in harder classes, followed by a general matching round), but it seemed difficult to properly express a balance between different constraints/priorities), so I ended up not implementing it.\n",
    "\n",
    "2. Priority-sort and greedy match\n",
    "    * One could just sort the list of tutees in order of 'need' where need is a function of the priority of the student for their classes, the hardness of the classes (class-level priority), and anything else one wants to factor in.\n",
    "    * Then, one can merely iterate through the list of tutors and match each tutor with the first tutees possible (as these are the highest 'need' tutees). It would be easy to set how many hours one allocates based on the number the tutor has available (not more than that) and the number the tutee requested (not more than that, but perhaps less; capped at 3 hours max). It would also be easy to keep the number of tutees/tutor to 3 and to avoid multiple tutors being matched to the same tutee for the same class (which could happen in max flow).\n",
    "    * I wasn't too worried about tutors ending up with 0 tutees, but one could expand this approach to also sort the list of tutors by, e.g., the number of matches they have (fewest matches first).\n",
    "    * One could even sort the lists between each match that is made, to keep things updated.\n",
    "    * This approach would probably be the simplest, but I didn't like it very much because it certainly doesn't get to a global optimal solution; matches would be made based on the tutee most in need right as the match is being considered, not how that match might restrict later matches. So, I didn't do much with this one either.\n",
    "\n",
    "3. Linear program\n",
    "    * Again, see section 4 for the specifics for this problem.\n",
    "    * Pros\n",
    "        * Finds the global maximum of whatever objective function you give it.  \n",
    "        * (Linear) flexibility: anything that can be expressed as a linear function of the variables could easily be made the objective. Any linear constraints can also be added on easily\n",
    "    * Cons\n",
    "        * Only linear things: I wasn't able to implement, for example, the constraint that tutors have $\\le3$ tutees, though this didn't seem to be an issue in my sample files. I also didn't implement anything that pushes no tutor to have 0 tutees (it's difficult to do something in terms of number of tutees; it's easy to do it in terms of number of hours of tutoring).\n",
    "    * Some of the non-linear constraints could probably be implemented without too much trouble using post-processing; working on that now."
   ]
  },
  {
   "cell_type": "markdown",
   "metadata": {
    "deletable": true,
    "editable": true,
    "heading_collapsed": true,
    "run_control": {
     "frozen": false,
     "read_only": false
    }
   },
   "source": [
    "# Sample Data Generation"
   ]
  },
  {
   "cell_type": "code",
   "execution_count": 2,
   "metadata": {
    "collapsed": false,
    "deletable": true,
    "editable": true,
    "hidden": true,
    "init_cell": true,
    "run_control": {
     "frozen": false,
     "read_only": false
    }
   },
   "outputs": [],
   "source": [
    "def make_sample_files(n, path=data_path):\n",
    "    \"\"\"\n",
    "    Creates sample tutor and tutee info files so that one can test the matching script.\n",
    "    The sample files will be named tutor_info.txt and tutee_info.txt and stored in the directory specified.\n",
    "    Edit this function if the sample data doesn't seem realistic enough (e.g add more classes, alter the number of hours\n",
    "    generally requested, etc.)\n",
    "    :param n: the number of tutees to put in the tutee file; the number of tutors will be 60% of this\n",
    "    :param path: path to the directory where the sample files should be saved\n",
    "    \"\"\"\n",
    "    \n",
    "    next_id = 0\n",
    "    n_tutees = n\n",
    "    n_tutors = int(0.6 * n)\n",
    "\n",
    "    classes = [6.01, 6.001, 6.005, 6.006, 6.036, 6.034, 6.046, 6.047, 6.802, 6.004, 6.002, 6.878, 6.041, 6.042]\n",
    "    classes = [str(class_) for class_ in classes]\n",
    "    class_probs = np.array([1., 1, 2, 2, 3, 2, 4, 2, 1, 2, 1, 1, 1, 2]) # distribution over how common the classes are\n",
    "    class_probs /= class_probs.sum() # normalize\n",
    "    class_ids = {classes[i]: i for i in xrange(len(classes))}\n",
    "    assert len(class_probs) == len(classes)\n",
    "    \n",
    "    ## TUTORS\n",
    "    with open(path + 'tutor_info.txt', 'w') as tutor_file:\n",
    "#         tutor_file.write('\\t'.join(('id', 'name', 'classes', 'avail_hours', 'n_matches')) + '\\n')\n",
    "        for _ in xrange(n_tutors):\n",
    "            # make a fake name for this person\n",
    "            name = reduce(lambda x, y: x+y, np.random.choice(list('aaabcdeeefghiiijklmnooopqrsssttuuuvwxyyz'), size=np.random.randint(3, 10)))\n",
    "            tid = next_id = next_id + 1 # tutor id\n",
    "            avail_hours = np.random.choice([0, 1, 1, 1, 1, 1, 2, 2, 2, 3, 3, 4])\n",
    "            n_matches = np.random.choice([0, 0, 0, 0, 1, 1, 2, 3])\n",
    "            class_list = np.random.choice(classes, p=class_probs, replace=False,\n",
    "                                          size=np.random.choice([0, 1, 2, 3, 4, 5], p=[.01, .24, .25, .25, .15, .1]))\n",
    "            class_list = [(class_ids[class_], class_) for class_ in class_list]\n",
    "\n",
    "            tutor_file.write(\"\\t\".join((str(elem) for elem in (tid, name, class_list, avail_hours, n_matches))) + '\\n')\n",
    "    \n",
    "    ## TUTEES\n",
    "    with open(path + 'tutee_info.txt', 'w') as tutee_file:\n",
    "#         tutee_file.write('\\t'.join(('id', 'name', 'classes', 'n_matches')) + '\\n')\n",
    "        for _ in xrange(n_tutors):\n",
    "            name = reduce(lambda x, y: x+y, np.random.choice(list('aaabcdeeefghiiijklmnooopqrsssttuuuvwxyyz'), size=np.random.randint(3, 10)))\n",
    "            tid = next_id = next_id + 1 # tutee id\n",
    "            n_matches = np.random.choice([0, 0, 0, 0, 1, 1, 2])\n",
    "            class_list = np.random.choice(classes, p=class_probs, replace=False,\n",
    "                                          size=np.random.choice([0, 1, 2, 3, 4, 5], p=[.01, .24, .25, .25, .15, .1]))\n",
    "            class_list = [(class_ids[class_], # class id\n",
    "                           class_, # class name\n",
    "                           np.random.choice([1, 2, 2, 2, 3, 3, 4, 5]), # hours requested\n",
    "                           np.random.choice([0, 0, 0, 0, 1])) # priority: 0 (no)/1 (yes)\n",
    "                          for class_ in class_list]\n",
    "\n",
    "            tutee_file.write(\"\\t\".join((str(elem) for elem in (tid, name, class_list, n_matches))) + '\\n')"
   ]
  },
  {
   "cell_type": "code",
   "execution_count": 23,
   "metadata": {
    "collapsed": false,
    "deletable": true,
    "editable": true,
    "hidden": true,
    "run_control": {
     "frozen": false,
     "read_only": false
    }
   },
   "outputs": [
    {
     "name": "stdout",
     "output_type": "stream",
     "text": [
      "19\tiwhp\t[(2, '6.005', 2, 0), (3, '6.006', 3, 0)]\t1\r\n",
      "20\tqwhxrlnu\t[(4, '6.036', 2, 0), (1, '6.001', 4, 0), (5, '6.034', 4, 0), (6, '6.046', 2, 1), (2, '6.005', 5, 1)]\t1\r\n",
      "21\trda\t[(3, '6.006', 3, 0), (7, '6.047', 3, 0), (10, '6.002', 1, 0), (1, '6.001', 2, 0)]\t1\r\n",
      "22\tisrih\t[(6, '6.046', 3, 0)]\t0\r\n",
      "23\tida\t[(6, '6.046', 2, 0), (9, '6.004', 2, 1), (5, '6.034', 1, 0), (10, '6.002', 2, 0), (4, '6.036', 1, 0)]\t1\r\n",
      "24\tois\t[(9, '6.004', 4, 0), (10, '6.002', 3, 1), (6, '6.046', 1, 1)]\t0\r\n",
      "25\tatgjg\t[(6, '6.046', 4, 0), (5, '6.034', 5, 0), (10, '6.002', 3, 0), (1, '6.001', 3, 0)]\t0\r\n",
      "26\tsibsu\t[(3, '6.006', 4, 0), (13, '6.042', 1, 0), (2, '6.005', 2, 0), (4, '6.036', 5, 0)]\t0\r\n",
      "27\tiowcz\t[(2, '6.005', 2, 0), (3, '6.006', 3, 0)]\t0\r\n",
      "28\txoywiq\t[(4, '6.036', 3, 1), (6, '6.046', 1, 0), (2, '6.005', 2, 0)]\t0\r\n",
      "29\tyeltoosh\t[(6, '6.046', 2, 0), (4, '6.036', 2, 0), (13, '6.042', 2, 1), (7, '6.047', 2, 1)]\t0\r\n",
      "30\twwbsxy\t[(13, '6.042', 2, 1), (2, '6.005', 4, 0), (5, '6.034', 2, 0)]\t0\r\n",
      "31\tysttu\t[(6, '6.046', 5, 0), (4, '6.036', 3, 1), (3, '6.006', 2, 0), (5, '6.034', 3, 0), (2, '6.005', 3, 0)]\t0\r\n",
      "32\tboiium\t[(6, '6.046', 4, 0), (1, '6.001', 3, 0), (3, '6.006', 2, 0)]\t2\r\n",
      "33\tstosu\t[(13, '6.042', 2, 0), (4, '6.036', 2, 1), (8, '6.802', 1, 0)]\t1\r\n",
      "34\titl\t[(6, '6.046', 4, 0), (12, '6.041', 4, 0), (13, '6.042', 2, 0)]\t0\r\n",
      "35\tareac\t[(5, '6.034', 2, 0), (7, '6.047', 4, 0)]\t1\r\n",
      "36\tdsg\t[(12, '6.041', 2, 1), (0, '6.01', 2, 1)]\t1\r\n"
     ]
    }
   ],
   "source": [
    "make_sample_files(30)\n",
    "! cat $data_path/tutee_info.txt"
   ]
  },
  {
   "cell_type": "code",
   "execution_count": 24,
   "metadata": {
    "collapsed": false,
    "deletable": true,
    "editable": true,
    "hidden": true,
    "run_control": {
     "frozen": false,
     "read_only": false
    }
   },
   "outputs": [
    {
     "name": "stdout",
     "output_type": "stream",
     "text": [
      "72\tJulian Chacon-Castano\t[('315', '6.003'), ('331', '6.041 (6.431)'), ('340', '6.115')]\t4.0\t1\r\n"
     ]
    }
   ],
   "source": [
    "# does the real data look similar?\n",
    "! cat /scratch/nhunt/hkn_tutor/real_data/tutor_info.txt"
   ]
  },
  {
   "cell_type": "markdown",
   "metadata": {
    "deletable": true,
    "editable": true,
    "heading_collapsed": true,
    "run_control": {
     "frozen": false,
     "read_only": false
    }
   },
   "source": [
    "# Data Loading, Validation, and Prep"
   ]
  },
  {
   "cell_type": "code",
   "execution_count": 3,
   "metadata": {
    "collapsed": false,
    "deletable": true,
    "editable": true,
    "hidden": true,
    "init_cell": true,
    "run_control": {
     "frozen": false,
     "read_only": false
    }
   },
   "outputs": [],
   "source": [
    "def load_tutor_info(fname='tutor_info.txt', data_path=data_path, verbose=True):\n",
    "    \"\"\"\n",
    "    Reads in the tutor data which must be in a file named tutor_info.txt in the directory specified by data_path\n",
    "    (entered as a command-line argument with default value of the current directory).\n",
    "    Columns expected in the tutor_info file are tutor id, tutor name, list of classes they will tutor, number of\n",
    "    hours of availability, and number of matches they already have.\n",
    "    :param verbose: whether to print out information about minor issues in the input data and how they're handled\n",
    "    \"\"\"\n",
    "    tutor_info = pd.read_csv(data_path + fname, sep='\\t', header=None, index_col=0,\n",
    "                            names=['id', 'name', 'classes', 'avail_hours', 'n_matches']).sort_index()\n",
    "    tutor_info.classes = tutor_info.classes.apply(literal_eval)\n",
    "\n",
    "    n_zero_hours = (tutor_info.avail_hours == 0).sum()\n",
    "    if n_zero_hours > 0:\n",
    "        if verbose:\n",
    "            print(\"{} tutors had 0 hours available and are thus being dropped.\".format(n_zero_hours))\n",
    "        tutor_info.drop(tutor_info[tutor_info.avail_hours == 0].index, inplace=True)\n",
    "\n",
    "    max_matches = 3\n",
    "    n_max_matches = (tutor_info.n_matches >= max_matches).sum()\n",
    "    if n_max_matches > 0:\n",
    "        if verbose:\n",
    "            print(\"{} tutors had {} matches already and are thus being dropped.\".format(n_max_matches, max_matches))\n",
    "        tutor_info.drop(tutor_info[tutor_info.n_matches == max_matches].index, inplace=True)\n",
    "\n",
    "    n_no_classes = (tutor_info.classes.apply(len) == 0).sum()\n",
    "    if n_no_classes > 0:\n",
    "        if verbose:\n",
    "            print(\"{} tutors had an empty class list and are thus being dropped.\".format(n_no_classes))\n",
    "        tutor_info.drop(tutor_info[tutor_info.classes.apply(len) == 0].index, inplace=True)\n",
    "    return tutor_info\n",
    "\n",
    "\n",
    "def load_tutee_info(fname='tutee_info.txt', data_path=data_path, verbose=True):\n",
    "    \"\"\"\n",
    "    Reads in the tutee data which must be in a file named tutee_info.txt in the directory specified by data_path\n",
    "    (entered as a command-line argument with default value of the current directory).\n",
    "    Columns expected in the tutee_info file are tutee id, tutee name, list of classes requested for tutoring and\n",
    "    number of matches they already have.\n",
    "    :param verbose: whether to print out information about minor issues in the input data and how they're handled\n",
    "    \"\"\"\n",
    "    tutee_info = pd.read_csv(data_path + fname, sep='\\t', header=None, index_col=0,\n",
    "                            names=['id', 'name', 'classes', 'n_matches']).sort_index()\n",
    "    tutee_info.classes = tutee_info.classes.apply(literal_eval)\n",
    "\n",
    "    n_no_classes = (tutee_info.classes.apply(len) == 0).sum()\n",
    "    if n_no_classes > 0:\n",
    "        if verbose:\n",
    "            print(\"{} tutees had an empty class list and are thus being dropped.\".format(n_no_classes))\n",
    "        tutee_info.drop(tutee_info[tutee_info.classes.apply(len) == 0].index, inplace=True)\n",
    "\n",
    "    return tutee_info"
   ]
  },
  {
   "cell_type": "code",
   "execution_count": 4,
   "metadata": {
    "collapsed": false,
    "deletable": true,
    "editable": true,
    "hidden": true,
    "init_cell": true,
    "run_control": {
     "frozen": false,
     "read_only": false
    }
   },
   "outputs": [
    {
     "name": "stdout",
     "output_type": "stream",
     "text": [
      "3 tutors had 0 hours available and are thus being dropped.\n",
      "2 tutors had 3 matches already and are thus being dropped.\n"
     ]
    },
    {
     "data": {
      "text/html": [
       "<div>\n",
       "<table border=\"1\" class=\"dataframe\">\n",
       "  <thead>\n",
       "    <tr style=\"text-align: right;\">\n",
       "      <th></th>\n",
       "      <th>name</th>\n",
       "      <th>classes</th>\n",
       "      <th>avail_hours</th>\n",
       "      <th>n_matches</th>\n",
       "    </tr>\n",
       "    <tr>\n",
       "      <th>id</th>\n",
       "      <th></th>\n",
       "      <th></th>\n",
       "      <th></th>\n",
       "      <th></th>\n",
       "    </tr>\n",
       "  </thead>\n",
       "  <tbody>\n",
       "    <tr>\n",
       "      <th>1</th>\n",
       "      <td>yce</td>\n",
       "      <td>[(2, 6.005)]</td>\n",
       "      <td>4</td>\n",
       "      <td>2</td>\n",
       "    </tr>\n",
       "    <tr>\n",
       "      <th>2</th>\n",
       "      <td>itten</td>\n",
       "      <td>[(9, 6.004), (2, 6.005), (13, 6.042), (10, 6.0...</td>\n",
       "      <td>2</td>\n",
       "      <td>2</td>\n",
       "    </tr>\n",
       "    <tr>\n",
       "      <th>3</th>\n",
       "      <td>oyavdipo</td>\n",
       "      <td>[(0, 6.01), (5, 6.034)]</td>\n",
       "      <td>4</td>\n",
       "      <td>0</td>\n",
       "    </tr>\n",
       "    <tr>\n",
       "      <th>4</th>\n",
       "      <td>yat</td>\n",
       "      <td>[(2, 6.005)]</td>\n",
       "      <td>1</td>\n",
       "      <td>0</td>\n",
       "    </tr>\n",
       "    <tr>\n",
       "      <th>5</th>\n",
       "      <td>opjcfowux</td>\n",
       "      <td>[(13, 6.042), (11, 6.878)]</td>\n",
       "      <td>1</td>\n",
       "      <td>0</td>\n",
       "    </tr>\n",
       "  </tbody>\n",
       "</table>\n",
       "</div>"
      ],
      "text/plain": [
       "         name                                            classes  avail_hours  \\\n",
       "id                                                                              \n",
       "1         yce                                       [(2, 6.005)]            4   \n",
       "2       itten  [(9, 6.004), (2, 6.005), (13, 6.042), (10, 6.0...            2   \n",
       "3    oyavdipo                            [(0, 6.01), (5, 6.034)]            4   \n",
       "4         yat                                       [(2, 6.005)]            1   \n",
       "5   opjcfowux                         [(13, 6.042), (11, 6.878)]            1   \n",
       "\n",
       "    n_matches  \n",
       "id             \n",
       "1           2  \n",
       "2           2  \n",
       "3           0  \n",
       "4           0  \n",
       "5           0  "
      ]
     },
     "execution_count": 4,
     "metadata": {},
     "output_type": "execute_result"
    }
   ],
   "source": [
    "tutor_info = load_tutor_info()\n",
    "n_tutors = len(tutor_info)\n",
    "tutor_to_idx = {tutor_info.index.values[i]: i for i in xrange(n_tutors)}\n",
    "idx_to_tutor = {val: key for (key, val) in tutor_to_idx.items()}\n",
    "tutor_info.head()"
   ]
  },
  {
   "cell_type": "code",
   "execution_count": 5,
   "metadata": {
    "collapsed": false,
    "deletable": true,
    "editable": true,
    "hidden": true,
    "init_cell": true,
    "run_control": {
     "frozen": false,
     "read_only": false
    }
   },
   "outputs": [
    {
     "data": {
      "text/html": [
       "<div>\n",
       "<table border=\"1\" class=\"dataframe\">\n",
       "  <thead>\n",
       "    <tr style=\"text-align: right;\">\n",
       "      <th></th>\n",
       "      <th>name</th>\n",
       "      <th>classes</th>\n",
       "      <th>n_matches</th>\n",
       "    </tr>\n",
       "    <tr>\n",
       "      <th>id</th>\n",
       "      <th></th>\n",
       "      <th></th>\n",
       "      <th></th>\n",
       "    </tr>\n",
       "  </thead>\n",
       "  <tbody>\n",
       "    <tr>\n",
       "      <th>19</th>\n",
       "      <td>iwhp</td>\n",
       "      <td>[(2, 6.005, 2, 0), (3, 6.006, 3, 0)]</td>\n",
       "      <td>1</td>\n",
       "    </tr>\n",
       "    <tr>\n",
       "      <th>20</th>\n",
       "      <td>qwhxrlnu</td>\n",
       "      <td>[(4, 6.036, 2, 0), (1, 6.001, 4, 0), (5, 6.034...</td>\n",
       "      <td>1</td>\n",
       "    </tr>\n",
       "    <tr>\n",
       "      <th>21</th>\n",
       "      <td>rda</td>\n",
       "      <td>[(3, 6.006, 3, 0), (7, 6.047, 3, 0), (10, 6.00...</td>\n",
       "      <td>1</td>\n",
       "    </tr>\n",
       "    <tr>\n",
       "      <th>22</th>\n",
       "      <td>isrih</td>\n",
       "      <td>[(6, 6.046, 3, 0)]</td>\n",
       "      <td>0</td>\n",
       "    </tr>\n",
       "    <tr>\n",
       "      <th>23</th>\n",
       "      <td>ida</td>\n",
       "      <td>[(6, 6.046, 2, 0), (9, 6.004, 2, 1), (5, 6.034...</td>\n",
       "      <td>1</td>\n",
       "    </tr>\n",
       "  </tbody>\n",
       "</table>\n",
       "</div>"
      ],
      "text/plain": [
       "        name                                            classes  n_matches\n",
       "id                                                                        \n",
       "19      iwhp               [(2, 6.005, 2, 0), (3, 6.006, 3, 0)]          1\n",
       "20  qwhxrlnu  [(4, 6.036, 2, 0), (1, 6.001, 4, 0), (5, 6.034...          1\n",
       "21       rda  [(3, 6.006, 3, 0), (7, 6.047, 3, 0), (10, 6.00...          1\n",
       "22     isrih                                 [(6, 6.046, 3, 0)]          0\n",
       "23       ida  [(6, 6.046, 2, 0), (9, 6.004, 2, 1), (5, 6.034...          1"
      ]
     },
     "execution_count": 5,
     "metadata": {},
     "output_type": "execute_result"
    }
   ],
   "source": [
    "tutee_info = load_tutee_info()\n",
    "n_tutees = len(tutee_info)\n",
    "tutee_to_idx = {tutee_info.index.values[i]: i for i in xrange(n_tutees)}\n",
    "idx_to_tutee = {val: key for (key, val) in tutee_to_idx.items()}\n",
    "tutee_info.head()"
   ]
  },
  {
   "cell_type": "code",
   "execution_count": 6,
   "metadata": {
    "collapsed": false,
    "deletable": true,
    "editable": true,
    "hidden": true,
    "init_cell": true,
    "run_control": {
     "frozen": false,
     "read_only": false
    }
   },
   "outputs": [
    {
     "data": {
      "text/html": [
       "<div>\n",
       "<table border=\"1\" class=\"dataframe\">\n",
       "  <thead>\n",
       "    <tr style=\"text-align: right;\">\n",
       "      <th></th>\n",
       "      <th>class_name</th>\n",
       "      <th>priority</th>\n",
       "    </tr>\n",
       "  </thead>\n",
       "  <tbody>\n",
       "    <tr>\n",
       "      <th>8</th>\n",
       "      <td>6.041</td>\n",
       "      <td>0.000000</td>\n",
       "    </tr>\n",
       "    <tr>\n",
       "      <th>13</th>\n",
       "      <td>6.878</td>\n",
       "      <td>0.000000</td>\n",
       "    </tr>\n",
       "    <tr>\n",
       "      <th>2</th>\n",
       "      <td>6.004</td>\n",
       "      <td>0.039604</td>\n",
       "    </tr>\n",
       "    <tr>\n",
       "      <th>5</th>\n",
       "      <td>6.01</td>\n",
       "      <td>0.039604</td>\n",
       "    </tr>\n",
       "    <tr>\n",
       "      <th>12</th>\n",
       "      <td>6.802</td>\n",
       "      <td>0.039604</td>\n",
       "    </tr>\n",
       "  </tbody>\n",
       "</table>\n",
       "</div>"
      ],
      "text/plain": [
       "   class_name  priority\n",
       "8       6.041  0.000000\n",
       "13      6.878  0.000000\n",
       "2       6.004  0.039604\n",
       "5        6.01  0.039604\n",
       "12      6.802  0.039604"
      ]
     },
     "execution_count": 6,
     "metadata": {},
     "output_type": "execute_result"
    }
   ],
   "source": [
    "class_id_name = np.concatenate((tutee_info.classes.map(lambda class_list: [class_elem[:2] for class_elem in class_list]).values,\n",
    "                tutor_info.classes.values))\n",
    "class_to_id = {name: idx for (idx, name) in reduce(lambda x, y: x + y, class_id_name)}\n",
    "\n",
    "# extract just a list of names of classes per tutor/tutee; reduce these into one long list; make a Series mapping names to counts\n",
    "# then set priority = n_tutees / n_tutors for each class\n",
    "tutees_per_class = pd.Series(reduce(lambda x, y: x + y, tutee_info.classes.apply(lambda x: [elem[1] for elem in x]))).value_counts()\n",
    "tutors_per_class = pd.Series(reduce(lambda x, y: x + y, tutor_info.classes.apply(lambda x: [elem[1] for elem in x]))).value_counts()\n",
    "class_priority = (tutees_per_class / tutors_per_class).fillna(0).reset_index() # NA occurs when a class doesn't have both tutors and tutees\n",
    "class_priority.rename(columns={'index': 'class_name', 0: 'priority'}, inplace=True)\n",
    "class_priority.sort_values('priority', inplace=True)\n",
    "class_priority.priority /= class_priority.priority.sum() # normalize\n",
    "\n",
    "n_classes = len(class_priority)\n",
    "class_to_idx = {class_priority.class_name.values[i]: i for i in xrange(n_classes)}\n",
    "idx_to_class = {val: key for (key, val) in class_to_idx.items()}\n",
    "get_class_idx = np.vectorize(class_to_idx.get)\n",
    "class_priority.head()"
   ]
  },
  {
   "cell_type": "markdown",
   "metadata": {
    "deletable": true,
    "editable": true,
    "heading_collapsed": true,
    "run_control": {
     "frozen": false,
     "read_only": false
    }
   },
   "source": [
    "# Linear Program\n",
    "\n",
    "This part is tricky. What we really have is a 3D tensor of shape (n_tutors, n_tutees, n_classes). The value at each cell $(i,j,k)$ of the tensor is the number of hours that tutor $T_i$ is tutoring tutee (student, hereafter) $S_j$ in class $C_k$. However, we want to represent each element of this tensor as a variable so that we can optimize the tutoring with a linear program. So, we ravel the tensor into one dimension. We just have to be careful to keep the proper order of things. We'll mentally ravel the 3D tensor into 1D in reading order: top left to bottom right, front to back. This means that students change the most quickly, then tutors, then classes. As an example:\n",
    "$$(T_0,S_0,C_0), (T_0,S_1,C_0),...,(T_1,S_0,C_0),(T_1,S_1,C_0),...,(T_0,S_0,C_1),(T_0,S_1,C_1),...$$\n",
    "We'll refer to the 1D array as $A$ (creative). If there are $n_t$ teachers, $n_s$ students, and $n_c$ classes, then we index it like:\n",
    "$$(T_i,S_j,C_k)=A_{j+n_s*i+(n_s*n_t)*c}$$\n",
    "To make this simpler to write, we may denote it $A_{i,j,k}$ at times, but the above is what is meant by that.\n",
    "\n",
    "**Objective function**\n",
    "\n",
    "We'll optimize a weighted sum of the number of hours of tutoring; it will be weighted by per class priorities (more priority to classes where more hours were requested) and the individual priorities given in the input file for particular student and class combinations. To scale how important the priorities are versus just maximizing the number of hours of tutoring, we'll use two parameters $\\lambda_c$ for priorities for entire classes and $\\lambda_s$ for priorities for particular students (in particular classes). The function to be maximized is then:\n",
    "$$\\sum_{i,j,k} A_{i,j,k} * (\\lambda_c * PC_i) * (\\lambda_s * PS_{j,k})$$\n",
    "where $PC_i$ is the priority for the $i$'th class and $PS_{i,j}$ is the priority of class $j$ for student $i$ (to make things simpler, we can scale all of the priorities by their respective $\\lambda$'s ahead of time and drop those terms in the objective function)\n",
    "\n",
    "**Constraints**\n",
    "* $A_{i,j,k}=0$ if $T_i$ or $S_j$ doesn't have $C_k$ in their classes lists.\n",
    "    * We can do this by multiplying by 0 the cells that are valid and the others by 1; then we constrain the sum to be 0. As no cell can have a negative value (a constraint we also give), this will force all invalid class cells to 0.\n",
    "* The maximum number of hours per match is 3, so each cell is $\\le3$. Each cell must also be $\\ge0$, so we can just enter bounds of (0,3) (inclusive) for each variable.\n",
    "* No student receives more hours of tutoring for a class than requested; no tutor tutors more hours than they were available.\n",
    "\n",
    "\n",
    "**Desired Constraints**\n",
    "\n",
    "See the list of priorities in section 1 for other things that would be nice to include but that don't fit well into a linear program (perhaps a quadratic program would make some of them possible?)."
   ]
  },
  {
   "cell_type": "code",
   "execution_count": 7,
   "metadata": {
    "collapsed": true,
    "deletable": true,
    "editable": true,
    "hidden": true,
    "init_cell": true,
    "run_control": {
     "frozen": false,
     "read_only": false
    }
   },
   "outputs": [],
   "source": [
    "def get_idx(tutor_idx, tutee_idx, class_idx):\n",
    "    \"\"\"\n",
    "    Computes the index in the 1D array corresponding to (tutor_idx, tutee_idx, class_idx) in the\n",
    "    imagined 3D tensor\n",
    "    \"\"\"\n",
    "    assert tutor_idx < n_tutors\n",
    "    assert tutee_idx < n_tutees\n",
    "    assert class_idx < n_classes\n",
    "    return tutee_idx + n_tutees * tutor_idx + n_tutees * n_tutors * class_idx\n",
    "\n",
    "def get_triple_idx(idx):\n",
    "    \"\"\"\n",
    "    Does the inverse of get_idx: returns the (tutor_idx, tutee_idx, class_idx) corresponding to idx\n",
    "    \"\"\"\n",
    "    class_idx = 0\n",
    "    while idx - (n_tutees * n_tutors) >= 0:\n",
    "        class_idx += 1\n",
    "        idx -= (n_tutees * n_tutors)\n",
    "    \n",
    "    tutor_idx = 0\n",
    "    while idx - n_tutees >= 0:\n",
    "        tutor_idx += 1\n",
    "        idx -= n_tutees\n",
    "    tutee_idx = idx\n",
    "    return tutor_idx, tutee_idx, class_idx"
   ]
  },
  {
   "cell_type": "code",
   "execution_count": 30,
   "metadata": {
    "collapsed": false,
    "deletable": true,
    "editable": true,
    "hidden": true,
    "init_cell": false,
    "run_control": {
     "frozen": false,
     "read_only": false
    }
   },
   "outputs": [],
   "source": [
    "n_variables = n_tutors * n_tutees * n_classes\n",
    "max_hours = 3\n",
    "var_bounds = (0, max_hours) # same bounds for all variables"
   ]
  },
  {
   "cell_type": "code",
   "execution_count": 31,
   "metadata": {
    "collapsed": false,
    "deletable": true,
    "editable": true,
    "hidden": true,
    "init_cell": false,
    "run_control": {
     "frozen": false,
     "read_only": false
    }
   },
   "outputs": [],
   "source": [
    "class_list_bound = 0\n",
    "class_list_constraint = np.ones((1, n_variables)) # set indices to 0 where the proposed matchings are valid\n",
    "\n",
    "for tutor_idx in xrange(n_tutors):\n",
    "    tutor_class_indices = get_class_idx([elem[1] for elem in tutor_info.classes.iloc[tutor_idx]]) # elem[1] is class name\n",
    "    for class_idx in tutor_class_indices:\n",
    "        for tutee_idx in xrange(n_tutees):\n",
    "            tutee_class_indices = get_class_idx([elem[1] for elem in tutee_info.classes.iloc[tutee_idx]])\n",
    "            if class_idx in tutee_class_indices:\n",
    "                class_list_constraint[0, get_idx(tutor_idx, tutee_idx, class_idx)] = 0"
   ]
  },
  {
   "cell_type": "code",
   "execution_count": 32,
   "metadata": {
    "collapsed": true,
    "deletable": true,
    "editable": true,
    "hidden": true,
    "run_control": {
     "frozen": false,
     "read_only": false
    }
   },
   "outputs": [],
   "source": [
    "# hours requested/available bounds\n",
    "# similar to above but tutees need one constraint per class (# hours requested is per class)\n",
    "\n",
    "hours_constraints = []\n",
    "hours_bounds = []\n",
    "\n",
    "for tutor_idx in xrange(n_tutors):\n",
    "    class_indices = get_class_idx([elem[1] for elem in tutor_info.classes.iloc[tutor_idx]]) # elem[1] is class name\n",
    "    hours_bounds.append(tutor_info.avail_hours.iloc[tutor_idx])\n",
    "    constraint = np.zeros((1, n_variables)) # set indices to 1 where the proposed class is valid for this tutor\n",
    "    for class_idx in class_indices:\n",
    "        for tutee_idx in xrange(n_tutees):\n",
    "            constraint[0, get_idx(tutor_idx, tutee_idx, class_idx)] = 1\n",
    "    hours_constraints.append(constraint)\n",
    "\n",
    "for tutee_idx in xrange(n_tutees):\n",
    "    class_indices = get_class_idx([elem[1] for elem in tutee_info.classes.iloc[tutee_idx]]) # elem[1] is class name\n",
    "    hours_requested = [elem[2] for elem in tutee_info.classes.iloc[tutee_idx]]\n",
    "    for i in xrange(len(class_indices)):\n",
    "        class_idx = class_indices[i]\n",
    "        hours_bounds.append(hours_requested[i])\n",
    "        constraint = np.zeros((1, n_variables)) # set indices to 1 where the proposed class is valid for this tutee\n",
    "        for tutor_idx in xrange(n_tutors):\n",
    "            constraint[0, get_idx(tutor_idx, tutee_idx, class_idx)] = 1\n",
    "        hours_constraints.append(constraint)\n",
    "\n",
    "hours_constraints = np.concatenate(hours_constraints, axis=0)\n",
    "hours_bounds = np.array(hours_bounds)"
   ]
  },
  {
   "cell_type": "code",
   "execution_count": 8,
   "metadata": {
    "collapsed": true,
    "deletable": true,
    "editable": true,
    "hidden": true,
    "init_cell": true,
    "run_control": {
     "frozen": false,
     "read_only": false
    }
   },
   "outputs": [],
   "source": [
    "def get_objective(lambda_classes, lambda_students):\n",
    "    # scale priorities by lambdas\n",
    "    scaled_class_priorities = lambda_classes * class_priority.priority.values\n",
    "    objective_function = np.ones(n_variables)\n",
    "\n",
    "    for class_idx in xrange(n_classes):\n",
    "        priority = scaled_class_priorities[class_idx]\n",
    "        if priority > 1:\n",
    "            print(priority)\n",
    "        for tutor_idx in xrange(n_tutors):\n",
    "            for tutee_idx in xrange(n_tutees):\n",
    "                objective_function[get_idx(tutor_idx, tutee_idx, class_idx)] *= priority\n",
    "\n",
    "    for tutee_idx in xrange(n_tutees):\n",
    "        class_indices = get_class_idx([elem[1] for elem in tutee_info.classes.iloc[tutee_idx]]) # elem[1] is class name\n",
    "        priorities = [elem[3] for elem in tutee_info.classes.iloc[tutee_idx]]\n",
    "        for i in xrange(len(class_indices)):\n",
    "            class_idx = class_indices[i]\n",
    "            priority = lambda_students * (1 + priorities[i]) # so priority of 0 -> 1\n",
    "            for tutor_idx in xrange(n_tutors):\n",
    "                before = objective_function[get_idx(tutor_idx, tutee_idx, class_idx)]\n",
    "                objective_function[get_idx(tutor_idx, tutee_idx, class_idx)] *= priority\n",
    "                after = objective_function[get_idx(tutor_idx, tutee_idx, class_idx)]\n",
    "    return objective_function\n",
    "\n",
    "\n",
    "def solve(objective_function):\n",
    "    solution = linprog(-objective_function, options={'disp': True},\n",
    "                       A_ub=hours_constraints, b_ub=hours_bounds,\n",
    "                       A_eq=class_list_constraint, b_eq=class_list_bound)\n",
    "    if solution.x.max() > max_hours:\n",
    "        print('Quick solution exceeded max_hours ({} hours in a matching; max is {}).'.format(solution.x.max(), max_hours))\n",
    "        print('Running slower, bounded program.')\n",
    "        solution = linprog(-objective_function, bounds=(0, max_hours), options={'disp': True},\n",
    "                           A_ub=hours_constraints, b_ub=hours_bounds,\n",
    "                           A_eq=class_list_constraint, b_eq=class_list_bound)\n",
    "    return solution"
   ]
  },
  {
   "cell_type": "code",
   "execution_count": 34,
   "metadata": {
    "collapsed": false,
    "deletable": true,
    "editable": true,
    "hidden": true,
    "run_control": {
     "frozen": false,
     "read_only": false
    }
   },
   "outputs": [
    {
     "name": "stdout",
     "output_type": "stream",
     "text": [
      "Optimization terminated successfully.\n",
      "         Current function value: -23.532468  \n",
      "         Iterations: 24\n",
      "Quick solution exceeded max_hours (4.0 hours in a matching; max is 3).\n",
      "Running slower, bounded program.\n",
      "Optimization terminated successfully.\n",
      "         Current function value: -23.532468  \n",
      "         Iterations: 26\n",
      "CPU times: user 23.6 s, sys: 26 s, total: 49.6 s\n",
      "Wall time: 49.6 s\n"
     ]
    }
   ],
   "source": [
    "%%time\n",
    "objective_function = get_objective(2, 2)\n",
    "solution = solve(objective_function)"
   ]
  },
  {
   "cell_type": "code",
   "execution_count": 9,
   "metadata": {
    "collapsed": true,
    "deletable": true,
    "editable": true,
    "hidden": true,
    "init_cell": true,
    "run_control": {
     "frozen": false,
     "read_only": false
    }
   },
   "outputs": [],
   "source": [
    "def get_matching(solution, i=0, save=False):\n",
    "    \"\"\"\n",
    "    :param solution: returned from scipy.optimize.linprog\n",
    "    :param i: number of this matching; used to name the saved file\n",
    "    \"\"\"\n",
    "    matched_indices = np.argwhere(solution.x != 0).ravel()\n",
    "    matches = []\n",
    "    for matched_idx in matched_indices:\n",
    "        tutor_idx, tutee_idx, class_idx = get_triple_idx(matched_idx)\n",
    "        tutor_id = idx_to_tutor[tutor_idx]\n",
    "        tutor_name = tutor_info.name.loc[tutor_id]\n",
    "        tutee_id = idx_to_tutee[tutee_idx]\n",
    "        tutee_name = tutee_info.name.loc[tutee_id]\n",
    "        class_name = idx_to_class[class_idx]\n",
    "        class_id = class_to_id[class_name]\n",
    "        n_hours = solution.x[matched_idx]\n",
    "        matches.append([tutor_id, tutor_name, tutee_id, tutee_name, class_id, class_name, n_hours])\n",
    "    matches = pd.DataFrame(matches,\n",
    "                           columns=['tutor_id', 'tutor_name', 'tutee_id', 'tutee_name', 'class_id', 'class_name', 'n_hours'])\n",
    "    if save:\n",
    "        print(\"Saving matching to {}matches_{}.tsv\".format(data_path, i))\n",
    "        matches.to_csv(data_path + 'matches_{}.tsv'.format(i), sep='\\t', index=False)\n",
    "    return matches"
   ]
  },
  {
   "cell_type": "code",
   "execution_count": 28,
   "metadata": {
    "collapsed": false,
    "deletable": true,
    "editable": true,
    "hidden": true,
    "run_control": {
     "frozen": false,
     "read_only": false
    }
   },
   "outputs": [
    {
     "data": {
      "text/html": [
       "<div>\n",
       "<table border=\"1\" class=\"dataframe\">\n",
       "  <thead>\n",
       "    <tr style=\"text-align: right;\">\n",
       "      <th></th>\n",
       "      <th>tutor_id</th>\n",
       "      <th>tutor_name</th>\n",
       "      <th>tutee_id</th>\n",
       "      <th>tutee_name</th>\n",
       "      <th>class_id</th>\n",
       "      <th>class_name</th>\n",
       "      <th>n_hours</th>\n",
       "    </tr>\n",
       "  </thead>\n",
       "  <tbody>\n",
       "    <tr>\n",
       "      <th>0</th>\n",
       "      <td>8</td>\n",
       "      <td>avogttus</td>\n",
       "      <td>19</td>\n",
       "      <td>othduyt</td>\n",
       "      <td>2</td>\n",
       "      <td>6.005</td>\n",
       "      <td>1.0</td>\n",
       "    </tr>\n",
       "    <tr>\n",
       "      <th>1</th>\n",
       "      <td>9</td>\n",
       "      <td>ran</td>\n",
       "      <td>23</td>\n",
       "      <td>iyy</td>\n",
       "      <td>3</td>\n",
       "      <td>6.006</td>\n",
       "      <td>1.0</td>\n",
       "    </tr>\n",
       "    <tr>\n",
       "      <th>2</th>\n",
       "      <td>9</td>\n",
       "      <td>ran</td>\n",
       "      <td>27</td>\n",
       "      <td>askukqc</td>\n",
       "      <td>3</td>\n",
       "      <td>6.006</td>\n",
       "      <td>1.0</td>\n",
       "    </tr>\n",
       "    <tr>\n",
       "      <th>3</th>\n",
       "      <td>4</td>\n",
       "      <td>imrw</td>\n",
       "      <td>20</td>\n",
       "      <td>ysc</td>\n",
       "      <td>5</td>\n",
       "      <td>6.034</td>\n",
       "      <td>1.0</td>\n",
       "    </tr>\n",
       "    <tr>\n",
       "      <th>4</th>\n",
       "      <td>5</td>\n",
       "      <td>eesou</td>\n",
       "      <td>20</td>\n",
       "      <td>ysc</td>\n",
       "      <td>4</td>\n",
       "      <td>6.036</td>\n",
       "      <td>1.0</td>\n",
       "    </tr>\n",
       "  </tbody>\n",
       "</table>\n",
       "</div>"
      ],
      "text/plain": [
       "   tutor_id tutor_name  tutee_id tutee_name  class_id class_name  n_hours\n",
       "0         8   avogttus        19    othduyt         2      6.005      1.0\n",
       "1         9        ran        23        iyy         3      6.006      1.0\n",
       "2         9        ran        27    askukqc         3      6.006      1.0\n",
       "3         4       imrw        20        ysc         5      6.034      1.0\n",
       "4         5      eesou        20        ysc         4      6.036      1.0"
      ]
     },
     "execution_count": 28,
     "metadata": {},
     "output_type": "execute_result"
    }
   ],
   "source": [
    "matches = get_matching(solution)\n",
    "matches.head()"
   ]
  },
  {
   "cell_type": "code",
   "execution_count": 125,
   "metadata": {
    "collapsed": false,
    "deletable": true,
    "editable": true,
    "hidden": true,
    "run_control": {
     "frozen": false,
     "read_only": false
    }
   },
   "outputs": [
    {
     "name": "stdout",
     "output_type": "stream",
     "text": [
      "Optimization terminated successfully.\n",
      "         Current function value: -0.001108   \n",
      "         Iterations: 26\n",
      "Saving matching to ./matches_0.tsv\n",
      "Optimization terminated successfully.\n",
      "         Current function value: -1107.692308\n",
      "         Iterations: 24\n",
      "Saving matching to ./matches_1.tsv\n",
      "Optimization terminated successfully.\n",
      "         Current function value: -0.002769   \n",
      "         Iterations: 26\n",
      "Saving matching to ./matches_2.tsv\n",
      "Optimization terminated successfully.\n",
      "         Current function value: -2769.230769\n",
      "         Iterations: 24\n",
      "Saving matching to ./matches_3.tsv\n"
     ]
    }
   ],
   "source": [
    "lambda_classes = [2, 5]\n",
    "lambda_students = [.0001, 100]\n",
    "use_product = True\n",
    "if use_product:\n",
    "    lambdas = list(product(lambda_classes, lambda_students))\n",
    "else:\n",
    "    lambdas = zip(lambda_classes, lambda_students)\n",
    "\n",
    "for i in xrange(len(lambdas)):\n",
    "    objective_function = get_objective(*lambdas[i])\n",
    "    solution = solve(objective_function)\n",
    "    get_matching(solution, i=i, save=True)"
   ]
  },
  {
   "cell_type": "markdown",
   "metadata": {
    "deletable": true,
    "editable": true,
    "run_control": {
     "frozen": false,
     "read_only": false
    }
   },
   "source": [
    "# Post-processing"
   ]
  },
  {
   "cell_type": "markdown",
   "metadata": {
    "deletable": true,
    "editable": true,
    "run_control": {
     "frozen": false,
     "read_only": false
    }
   },
   "source": [
    " If we stick with a linear program, either my script or the one that compares the matchings could be extended to do some post-hoc processing to add in these other constraints. For example, if one tutor has no tutees at all, one could unmatch any tutor who has $\\ge2$ tutees if one of those tutees shares a class with the unmatched tutor. One can also remove any matchings beyond the third for a single tutor (and then perhaps match that tutee with any tutor that still has time available for that class)\n",
    "This may be helpful. I did just confirm that in my example file, only 16/18 tutors were matched, though 5 had two matchings."
   ]
  },
  {
   "cell_type": "markdown",
   "metadata": {
    "deletable": true,
    "editable": true,
    "run_control": {
     "frozen": false,
     "read_only": false
    }
   },
   "source": [
    "Consider doing this instead:\n",
    "1. do matches that are 0/1; can constrain each cell to be in the range (0, 1) and each tutor's matrix to sum to 1 (so they're only matched to one student for one class)\n",
    "    * could also consider not constraining the tutors to only have one match; then this would be doing as many matches as possible. However, I think people would end up with too few hours then.\n",
    "2. Process:\n",
    "    * based on the number of hours a student requested, assign them a certain amount of tutoring for that class (e.g. if they requested >4 hours, assign 3; if >2, assign 2; if 2/1, assign 1). Maybe tend to give more hours if a student is priority\n",
    "    * subtract the relevant number of hours from the tutors available ours in tutor_info (the version in memory, not on disk)\n",
    "    * remove that class from the tutee's request list (so they won't be matched with multiple tutors for it)\n",
    "    * If a tutor now has 3 tutors, remove them from tutor_info so that they don't get any more matches (if they have any remaining hours available, assign those to the tutees they already have, if those tutees requested more tutoring time)\n",
    "3. Iterate steps 1 & 2 until step 1 produces no matches, then stop."
   ]
  },
  {
   "cell_type": "code",
   "execution_count": 10,
   "metadata": {
    "collapsed": false,
    "deletable": true,
    "editable": true,
    "run_control": {
     "frozen": false,
     "read_only": false
    }
   },
   "outputs": [
    {
     "name": "stdout",
     "output_type": "stream",
     "text": [
      "3 tutors had 0 hours available and are thus being dropped.\n",
      "2 tutors had 3 matches already and are thus being dropped.\n",
      "\n",
      "On iteration 1\n",
      "Optimization terminated successfully.\n",
      "         Current function value: -3.047129   \n",
      "         Iterations: 27\n",
      "\n",
      "On iteration 2\n",
      "Optimization terminated successfully.\n",
      "         Current function value: -0.788774   \n",
      "         Iterations: 7\n",
      "\n",
      "On iteration 3\n",
      "Optimization terminated successfully.\n",
      "         Current function value: -0.827179   \n",
      "         Iterations: 4\n"
     ]
    },
    {
     "data": {
      "text/html": [
       "<div>\n",
       "<table border=\"1\" class=\"dataframe\">\n",
       "  <thead>\n",
       "    <tr style=\"text-align: right;\">\n",
       "      <th></th>\n",
       "      <th>tutor_id</th>\n",
       "      <th>tutor_name</th>\n",
       "      <th>tutee_id</th>\n",
       "      <th>tutee_name</th>\n",
       "      <th>class_id</th>\n",
       "      <th>class_name</th>\n",
       "      <th>n_hours</th>\n",
       "    </tr>\n",
       "  </thead>\n",
       "  <tbody>\n",
       "    <tr>\n",
       "      <th>0</th>\n",
       "      <td>14</td>\n",
       "      <td>dpyds</td>\n",
       "      <td>23</td>\n",
       "      <td>ida</td>\n",
       "      <td>9</td>\n",
       "      <td>6.004</td>\n",
       "      <td>1</td>\n",
       "    </tr>\n",
       "    <tr>\n",
       "      <th>1</th>\n",
       "      <td>3</td>\n",
       "      <td>oyavdipo</td>\n",
       "      <td>36</td>\n",
       "      <td>dsg</td>\n",
       "      <td>0</td>\n",
       "      <td>6.01</td>\n",
       "      <td>1</td>\n",
       "    </tr>\n",
       "    <tr>\n",
       "      <th>2</th>\n",
       "      <td>2</td>\n",
       "      <td>itten</td>\n",
       "      <td>30</td>\n",
       "      <td>wwbsxy</td>\n",
       "      <td>13</td>\n",
       "      <td>6.042</td>\n",
       "      <td>1</td>\n",
       "    </tr>\n",
       "    <tr>\n",
       "      <th>3</th>\n",
       "      <td>5</td>\n",
       "      <td>opjcfowux</td>\n",
       "      <td>29</td>\n",
       "      <td>yeltoosh</td>\n",
       "      <td>13</td>\n",
       "      <td>6.042</td>\n",
       "      <td>1</td>\n",
       "    </tr>\n",
       "    <tr>\n",
       "      <th>4</th>\n",
       "      <td>1</td>\n",
       "      <td>yce</td>\n",
       "      <td>19</td>\n",
       "      <td>iwhp</td>\n",
       "      <td>2</td>\n",
       "      <td>6.005</td>\n",
       "      <td>1</td>\n",
       "    </tr>\n",
       "    <tr>\n",
       "      <th>5</th>\n",
       "      <td>4</td>\n",
       "      <td>yat</td>\n",
       "      <td>20</td>\n",
       "      <td>qwhxrlnu</td>\n",
       "      <td>2</td>\n",
       "      <td>6.005</td>\n",
       "      <td>1</td>\n",
       "    </tr>\n",
       "    <tr>\n",
       "      <th>6</th>\n",
       "      <td>6</td>\n",
       "      <td>odaags</td>\n",
       "      <td>22</td>\n",
       "      <td>isrih</td>\n",
       "      <td>6</td>\n",
       "      <td>6.046</td>\n",
       "      <td>2</td>\n",
       "    </tr>\n",
       "    <tr>\n",
       "      <th>7</th>\n",
       "      <td>8</td>\n",
       "      <td>fuegeytl</td>\n",
       "      <td>24</td>\n",
       "      <td>ois</td>\n",
       "      <td>6</td>\n",
       "      <td>6.046</td>\n",
       "      <td>1</td>\n",
       "    </tr>\n",
       "    <tr>\n",
       "      <th>8</th>\n",
       "      <td>10</td>\n",
       "      <td>itel</td>\n",
       "      <td>20</td>\n",
       "      <td>qwhxrlnu</td>\n",
       "      <td>6</td>\n",
       "      <td>6.046</td>\n",
       "      <td>1</td>\n",
       "    </tr>\n",
       "    <tr>\n",
       "      <th>9</th>\n",
       "      <td>7</td>\n",
       "      <td>taedmi</td>\n",
       "      <td>19</td>\n",
       "      <td>iwhp</td>\n",
       "      <td>3</td>\n",
       "      <td>6.006</td>\n",
       "      <td>2</td>\n",
       "    </tr>\n",
       "    <tr>\n",
       "      <th>10</th>\n",
       "      <td>9</td>\n",
       "      <td>qxagfheov</td>\n",
       "      <td>31</td>\n",
       "      <td>ysttu</td>\n",
       "      <td>4</td>\n",
       "      <td>6.036</td>\n",
       "      <td>2</td>\n",
       "    </tr>\n",
       "    <tr>\n",
       "      <th>11</th>\n",
       "      <td>15</td>\n",
       "      <td>ago</td>\n",
       "      <td>28</td>\n",
       "      <td>xoywiq</td>\n",
       "      <td>4</td>\n",
       "      <td>6.036</td>\n",
       "      <td>1</td>\n",
       "    </tr>\n",
       "    <tr>\n",
       "      <th>12</th>\n",
       "      <td>17</td>\n",
       "      <td>auu</td>\n",
       "      <td>20</td>\n",
       "      <td>qwhxrlnu</td>\n",
       "      <td>1</td>\n",
       "      <td>6.001</td>\n",
       "      <td>2</td>\n",
       "    </tr>\n",
       "    <tr>\n",
       "      <th>13</th>\n",
       "      <td>3</td>\n",
       "      <td>oyavdipo</td>\n",
       "      <td>20</td>\n",
       "      <td>qwhxrlnu</td>\n",
       "      <td>5</td>\n",
       "      <td>6.034</td>\n",
       "      <td>2</td>\n",
       "    </tr>\n",
       "    <tr>\n",
       "      <th>14</th>\n",
       "      <td>6</td>\n",
       "      <td>odaags</td>\n",
       "      <td>23</td>\n",
       "      <td>ida</td>\n",
       "      <td>6</td>\n",
       "      <td>6.046</td>\n",
       "      <td>1</td>\n",
       "    </tr>\n",
       "    <tr>\n",
       "      <th>15</th>\n",
       "      <td>10</td>\n",
       "      <td>itel</td>\n",
       "      <td>26</td>\n",
       "      <td>sibsu</td>\n",
       "      <td>2</td>\n",
       "      <td>6.005</td>\n",
       "      <td>1</td>\n",
       "    </tr>\n",
       "    <tr>\n",
       "      <th>16</th>\n",
       "      <td>7</td>\n",
       "      <td>taedmi</td>\n",
       "      <td>21</td>\n",
       "      <td>rda</td>\n",
       "      <td>3</td>\n",
       "      <td>6.006</td>\n",
       "      <td>1</td>\n",
       "    </tr>\n",
       "    <tr>\n",
       "      <th>17</th>\n",
       "      <td>9</td>\n",
       "      <td>qxagfheov</td>\n",
       "      <td>33</td>\n",
       "      <td>stosu</td>\n",
       "      <td>4</td>\n",
       "      <td>6.036</td>\n",
       "      <td>1</td>\n",
       "    </tr>\n",
       "    <tr>\n",
       "      <th>18</th>\n",
       "      <td>3</td>\n",
       "      <td>oyavdipo</td>\n",
       "      <td>23</td>\n",
       "      <td>ida</td>\n",
       "      <td>5</td>\n",
       "      <td>6.034</td>\n",
       "      <td>1</td>\n",
       "    </tr>\n",
       "    <tr>\n",
       "      <th>19</th>\n",
       "      <td>9</td>\n",
       "      <td>qxagfheov</td>\n",
       "      <td>24</td>\n",
       "      <td>ois</td>\n",
       "      <td>10</td>\n",
       "      <td>6.002</td>\n",
       "      <td>1</td>\n",
       "    </tr>\n",
       "  </tbody>\n",
       "</table>\n",
       "</div>"
      ],
      "text/plain": [
       "    tutor_id tutor_name  tutee_id tutee_name  class_id class_name  n_hours\n",
       "0         14      dpyds        23        ida         9      6.004        1\n",
       "1          3   oyavdipo        36        dsg         0       6.01        1\n",
       "2          2      itten        30     wwbsxy        13      6.042        1\n",
       "3          5  opjcfowux        29   yeltoosh        13      6.042        1\n",
       "4          1        yce        19       iwhp         2      6.005        1\n",
       "5          4        yat        20   qwhxrlnu         2      6.005        1\n",
       "6          6     odaags        22      isrih         6      6.046        2\n",
       "7          8   fuegeytl        24        ois         6      6.046        1\n",
       "8         10       itel        20   qwhxrlnu         6      6.046        1\n",
       "9          7     taedmi        19       iwhp         3      6.006        2\n",
       "10         9  qxagfheov        31      ysttu         4      6.036        2\n",
       "11        15        ago        28     xoywiq         4      6.036        1\n",
       "12        17        auu        20   qwhxrlnu         1      6.001        2\n",
       "13         3   oyavdipo        20   qwhxrlnu         5      6.034        2\n",
       "14         6     odaags        23        ida         6      6.046        1\n",
       "15        10       itel        26      sibsu         2      6.005        1\n",
       "16         7     taedmi        21        rda         3      6.006        1\n",
       "17         9  qxagfheov        33      stosu         4      6.036        1\n",
       "18         3   oyavdipo        23        ida         5      6.034        1\n",
       "19         9  qxagfheov        24        ois        10      6.002        1"
      ]
     },
     "execution_count": 10,
     "metadata": {},
     "output_type": "execute_result"
    }
   ],
   "source": [
    "data_path = './'\n",
    "iterative_matching = True\n",
    "max_tutees_per_tutor = 3\n",
    "\n",
    "if iterative_matching:\n",
    "    max_hours = 1\n",
    "else:\n",
    "    max_hours = 3\n",
    "\n",
    "verbose = True\n",
    "use_product = False\n",
    "lambda_classes = [2]\n",
    "lambda_students = [2]\n",
    "\n",
    "if use_product:\n",
    "    lambdas = list(product(lambda_classes, lambda_students))\n",
    "else:\n",
    "    lambdas = zip(lambda_classes, lambda_students)\n",
    "\n",
    "# we'll need the complete data for post-processing\n",
    "tutor_info_complete = match.load_tutor_info(data_path)\n",
    "tutee_info_complete = match.load_tutee_info(data_path)\n",
    "\n",
    "# these copies will be modified during the matching process\n",
    "tutor_info = tutor_info_complete.copy()\n",
    "tutee_info = tutee_info_complete.copy()\n",
    "\n",
    "matchings = []\n",
    "iter_number = 0\n",
    "while True:\n",
    "    iter_number += 1\n",
    "    print(\"\\nOn iteration\", iter_number)\n",
    "    \n",
    "    n_tutors = len(tutor_info)\n",
    "    tutor_to_idx = {tutor_info.index.values[i]: i for i in xrange(n_tutors)}\n",
    "    idx_to_tutor = {val: key for (key, val) in tutor_to_idx.items()}\n",
    "\n",
    "    n_tutees = len(tutee_info)\n",
    "    tutee_to_idx = {tutee_info.index.values[i]: i for i in xrange(n_tutees)}\n",
    "    idx_to_tutee = {val: key for (key, val) in tutee_to_idx.items()}\n",
    "\n",
    "    ### class priorities and info\n",
    "    class_priority, class_to_id, class_to_idx, idx_to_class = match.get_class_priority_and_mappings(tutor_info, tutee_info)\n",
    "    n_classes = len(class_priority)\n",
    "    get_class_idx = np.vectorize(class_to_idx.get)\n",
    "\n",
    "    ### bounds/constraints on the linear program\n",
    "\n",
    "    n_variables = n_tutors * n_tutees * n_classes\n",
    "\n",
    "    var_bounds = (0, max_hours) # same bound for all matchings\n",
    "    class_list_bounds, class_list_constraints = match.get_class_list_constraints(tutor_info, tutee_info, n_variables, get_class_idx)\n",
    "    hours_bounds, hours_constraints = match.get_hours_constraints(tutor_info, tutee_info, n_variables, get_class_idx, iterative_matching)\n",
    "\n",
    "    objective_function = match.get_objective(lambdas[0][0], lambdas[0][1], class_priority, n_tutors, n_tutees, n_classes, get_class_idx,\n",
    "                                            tutee_info)\n",
    "\n",
    "    solution = match.solve(objective_function, hours_constraints, hours_bounds, class_list_constraints, class_list_bounds, var_bounds)\n",
    "\n",
    "    matching = match.get_matching(solution, 0, tutor_info, tutee_info, idx_to_class, class_to_id, return_matching=True)\n",
    "    \n",
    "    if len(matching) == 0:\n",
    "        break\n",
    "    \n",
    "    matchings.append(matching)\n",
    "\n",
    "    match.update_info(tutor_info, tutee_info, matching)\n",
    "    \n",
    "    if len(tutor_info) == 0 or len(tutee_info) == 0:\n",
    "        break\n",
    "\n",
    "matchings = pd.concat(matchings).reset_index(drop=True)\n",
    "matchings"
   ]
  },
  {
   "cell_type": "code",
   "execution_count": 11,
   "metadata": {
    "collapsed": false,
    "deletable": true,
    "editable": true,
    "run_control": {
     "frozen": false,
     "read_only": false
    }
   },
   "outputs": [
    {
     "data": {
      "text/html": [
       "<div>\n",
       "<table border=\"1\" class=\"dataframe\">\n",
       "  <thead>\n",
       "    <tr style=\"text-align: right;\">\n",
       "      <th></th>\n",
       "      <th>name</th>\n",
       "      <th>classes</th>\n",
       "      <th>avail_hours</th>\n",
       "      <th>n_matches</th>\n",
       "    </tr>\n",
       "    <tr>\n",
       "      <th>id</th>\n",
       "      <th></th>\n",
       "      <th></th>\n",
       "      <th></th>\n",
       "      <th></th>\n",
       "    </tr>\n",
       "  </thead>\n",
       "  <tbody>\n",
       "  </tbody>\n",
       "</table>\n",
       "</div>"
      ],
      "text/plain": [
       "Empty DataFrame\n",
       "Columns: [name, classes, avail_hours, n_matches]\n",
       "Index: []"
      ]
     },
     "execution_count": 11,
     "metadata": {},
     "output_type": "execute_result"
    }
   ],
   "source": [
    "tutor_info"
   ]
  },
  {
   "cell_type": "markdown",
   "metadata": {
    "deletable": true,
    "editable": true,
    "run_control": {
     "frozen": false,
     "read_only": false
    }
   },
   "source": [
    "**Ensure no tutors have 0 matches (as far as possible)**\n",
    "\n",
    "Unless the priorities have changed the problem too much, any tutor that we remove from a matching will be unable to be matched with another tutee (otherwise, they would already have been matched with that tutee and one of the zero match tutors matched with their current tutee during the iterative LP) thus it should be fairly equivalent which tutor we take a match away from (in the sense that we can't pick an optimal tutor as one who, if removed, will still be able to tutor somebody else instead). Thus we'll just pick the first valid tutor we find who has the most matches to swap with a zero match tutor (as long as the tutor we're swapping out has at least one match).\n",
    "\n",
    "If one wanted to be a little more sophisticated, one could also consider swapping in a zero-match tutor for a previously matched tutor preferentially if the zero-match tutor could provide more hours of tutoring than the previously matched one (if the tutee is not already being tutored for as many hours as they had requested) or if the tutor you swapped out would be able to use their hours of tutoring on their other matched tutees (which we at least approximate with this strategy because a tutor with more tutees is more likely to be able to use their other hours elsewhere)."
   ]
  },
  {
   "cell_type": "code",
   "execution_count": 12,
   "metadata": {
    "collapsed": false,
    "deletable": true,
    "editable": true,
    "run_control": {
     "frozen": false,
     "read_only": false
    }
   },
   "outputs": [],
   "source": [
    "# pretend that some tutors were left with no matches, just to test\n",
    "tutor_info = pd.DataFrame([[9999, 'oaisjdf', [(2, '6.005')], 2, 0]], columns=['id', 'name', 'classes', 'avail_hours', 'n_matches']).set_index('id')\n",
    "zero_match_tutors = tutor_info[tutor_info.n_matches == 0]"
   ]
  },
  {
   "cell_type": "code",
   "execution_count": 13,
   "metadata": {
    "collapsed": false,
    "deletable": true,
    "editable": true,
    "run_control": {
     "frozen": false,
     "read_only": false
    }
   },
   "outputs": [],
   "source": [
    "for tutor_id in zero_match_tutors.index:\n",
    "    class_ids = map(lambda class_elem: class_elem[0], zero_match_tutors.loc[tutor_id, 'classes']) # just get the ids\n",
    "    matching_to_swap = None\n",
    "    most_matches = 0\n",
    "    for row in matchings.index:\n",
    "        if matchings.loc[row, 'class_id'] in class_ids:\n",
    "            swapped_tutor_id = matchings.loc[row, 'tutor_id']\n",
    "            n_matches = matchings.tutor_id.value_counts().loc[swapped_tutor_id]\n",
    "            if n_matches > max(1, most_matches):\n",
    "                most_matches = n_matches\n",
    "                matching_to_swap = [row, swapped_tutor_id, matchings.loc[row, 'n_hours'], matchings.loc[row, 'tutee_id'], matchings.loc[row, 'class_id']]\n",
    "                \n",
    "    if matching_to_swap: # not None\n",
    "        # update the matching to use the zero-match tutor swapped for the old one\n",
    "        row, swapped_tutor_id, swapped_hours, tutee_id, class_id = matching_to_swap\n",
    "        hours_requested = filter(lambda class_elem: class_elem[0] == class_id, tutee_info_complete.loc[tutee_id, 'classes'])[0][2]\n",
    "        hours_matched = min(zero_match_tutors.loc[tutor_id, 'avail_hours'], hours_requested)\n",
    "        matchings.loc[row, 'tutor_id'] = tutor_id\n",
    "        matchings.loc[row, 'tutor_name'] = zero_match_tutors.loc[tutor_id, 'name']\n",
    "        matchings.loc[row, 'n_hours'] = hours_matched\n",
    "        \n",
    "        # also update the tutor info based on the swap; we'll try one more LP, just in case\n",
    "        tutor_info.loc[tutor_id, 'n_matches'] += 1\n",
    "        tutor_info.loc[tutor_id, 'avail_hours'] -= hours_matched\n",
    "        \n",
    "        if swapped_tutor_id in tutor_info.index: # edit existing entry\n",
    "            tutor_info.loc[swapped_tutor_id, 'n_matches'] -= 1\n",
    "            tutor_info.loc[swapped_tutor_id, 'avail_hours'] += swapped_hours\n",
    "        else: # put an entry back in; make sure to update hours and matchings based on existing matchings\n",
    "            tutor_info = tutor_info.append(tutor_info_complete.loc[swapped_tutor_id])\n",
    "            tutor_info.loc[swapped_tutor_id, 'n_matches'] = len(matchings.loc[[swapped_tutor_id]])\n",
    "            tutor_info.loc[swapped_tutor_id, 'avail_hours'] -= matchings.loc[[swapped_tutor_id], 'n_hours'].sum()\n",
    "        \n",
    "        if tutor_info.loc[tutor_id, 'avail_hours'] == 0:\n",
    "            tutor_info.drop(tutor_id, inplace=True)"
   ]
  },
  {
   "cell_type": "code",
   "execution_count": 14,
   "metadata": {
    "collapsed": false,
    "deletable": true,
    "editable": true,
    "run_control": {
     "frozen": false,
     "read_only": false
    }
   },
   "outputs": [
    {
     "data": {
      "text/html": [
       "<div>\n",
       "<table border=\"1\" class=\"dataframe\">\n",
       "  <thead>\n",
       "    <tr style=\"text-align: right;\">\n",
       "      <th></th>\n",
       "      <th>name</th>\n",
       "      <th>classes</th>\n",
       "      <th>avail_hours</th>\n",
       "      <th>n_matches</th>\n",
       "    </tr>\n",
       "    <tr>\n",
       "      <th>id</th>\n",
       "      <th></th>\n",
       "      <th></th>\n",
       "      <th></th>\n",
       "      <th></th>\n",
       "    </tr>\n",
       "  </thead>\n",
       "  <tbody>\n",
       "    <tr>\n",
       "      <th>10</th>\n",
       "      <td>itel</td>\n",
       "      <td>[(6, 6.046), (5, 6.034), (2, 6.005)]</td>\n",
       "      <td>2</td>\n",
       "      <td>1</td>\n",
       "    </tr>\n",
       "  </tbody>\n",
       "</table>\n",
       "</div>"
      ],
      "text/plain": [
       "    name                               classes  avail_hours  n_matches\n",
       "id                                                                    \n",
       "10  itel  [(6, 6.046), (5, 6.034), (2, 6.005)]            2          1"
      ]
     },
     "execution_count": 14,
     "metadata": {},
     "output_type": "execute_result"
    }
   ],
   "source": [
    "tutor_info"
   ]
  },
  {
   "cell_type": "code",
   "execution_count": 16,
   "metadata": {
    "collapsed": false,
    "deletable": true,
    "editable": true,
    "run_control": {
     "frozen": false,
     "read_only": false
    }
   },
   "outputs": [
    {
     "name": "stdout",
     "output_type": "stream",
     "text": [
      "\n",
      "Solving LP with lambda_classes = 2, lambda_students = 2.\n",
      "Optimization terminated successfully.\n",
      "         Current function value: -0.008571   \n",
      "         Iterations: 3\n"
     ]
    }
   ],
   "source": [
    "# call main again, just in case, and append any new matchings\n",
    "tutor_info.to_csv('tmp/tutor_info.txt', sep='\\t', header=None)\n",
    "tutee_info.to_csv('tmp/tutee_info.txt', sep='\\t', header=None)\n",
    "\n",
    "matching = match.main('tmp/', max_hours, verbose, use_product, lambda_classes, lambda_students, iterative_matching=True, return_matching=True)\n",
    "update_info(tutor_info, tutee_info, matching)\n",
    "matchings = pd.concat((matchings, matching))"
   ]
  },
  {
   "cell_type": "code",
   "execution_count": 21,
   "metadata": {
    "collapsed": false,
    "deletable": true,
    "editable": true,
    "run_control": {
     "frozen": false,
     "read_only": false
    }
   },
   "outputs": [
    {
     "data": {
      "text/plain": [
       "1     3.0\n",
       "2     1.0\n",
       "10    1.0\n",
       "dtype: float64"
      ]
     },
     "execution_count": 21,
     "metadata": {},
     "output_type": "execute_result"
    }
   ],
   "source": [
    "hours_remaining = tutor_info_complete.avail_hours - matchings.groupby('tutor_id').n_hours.sum().sort_index()\n",
    "hours_remaining = hours_remaining[hours_remaining > 0]\n",
    "hours_remaining"
   ]
  },
  {
   "cell_type": "code",
   "execution_count": 22,
   "metadata": {
    "collapsed": false,
    "deletable": true,
    "editable": true,
    "run_control": {
     "frozen": false,
     "read_only": false
    }
   },
   "outputs": [
    {
     "name": "stdout",
     "output_type": "stream",
     "text": [
      "\n",
      "Solving LP with lambda_classes = 2, lambda_students = 2.\n",
      "Optimization terminated successfully.\n",
      "         Current function value: -0.040000   \n",
      "         Iterations: 1\n",
      "Quick solution exceeded max_hours (2.0 hours in a matching; max is 1).\n",
      "Running slower, bounded program.\n",
      "Optimization terminated successfully.\n",
      "         Current function value: -0.020000   \n",
      "         Iterations: 1\n",
      "\n",
      "Solving LP with lambda_classes = 2, lambda_students = 2.\n",
      "Optimization terminated successfully.\n",
      "         Current function value: -4.020000   \n",
      "         Iterations: 2\n",
      "\n",
      "Solving LP with lambda_classes = 2, lambda_students = 2.\n",
      "Optimization terminated successfully.\n",
      "         Current function value: -4.020000   \n",
      "         Iterations: 2\n"
     ]
    }
   ],
   "source": [
    "for tutor_id in hours_remaining.index:\n",
    "    matchings.set_index('tutor_id', inplace=True)\n",
    "    tutor_info_tmp = tutor_info_complete.loc[[tutor_id]].copy() # selecting with \"[]\" keeps it a dataframe instead of a series\n",
    "    tutor_info_tmp.loc[:, 'avail_hours'] = hours_remaining.loc[tutor_id]\n",
    "    tutee_info_tmp = tutee_info_complete.loc[matchings.loc[[tutor_id]].tutee_id].copy()\n",
    "    \n",
    "    for i in xrange(len(tutee_info_tmp)):\n",
    "        tutee_id = tutee_info_tmp.index[i]\n",
    "        matched_class = filter(lambda class_elem: class_elem[0] == matchings.loc[[tutor_id]].iloc[i].class_id, tutee_info_tmp.iloc[i].classes)\n",
    "        tutee_info_tmp.set_value(tutee_id, 'classes', matched_class)\n",
    "\n",
    "    try:\n",
    "        os.mkdir('tmp')\n",
    "    except OSError:\n",
    "        pass\n",
    "\n",
    "    tutor_info_tmp.to_csv('tmp/tutor_info.txt', sep='\\t', header=None)\n",
    "    tutee_info_tmp.to_csv('tmp/tutee_info.txt', sep='\\t', header=None)\n",
    "\n",
    "    matching = match.main('tmp/', max_hours, verbose, use_product, lambda_classes, lambda_students, iterative_matching=False, return_matching=True)\n",
    "    matchings = matchings.reset_index().set_index(['tutor_id', 'tutee_id'])\n",
    "    for row_idx in xrange(len(matching)):\n",
    "        tutee_id, n_hours = matching.iloc[row_idx].loc[['tutee_id', 'n_hours']]\n",
    "        matchings.loc[(tutor_id, tutee_id), 'n_hours'] += n_hours\n",
    "    matchings.reset_index(inplace=True)"
   ]
  },
  {
   "cell_type": "code",
   "execution_count": 23,
   "metadata": {
    "collapsed": false,
    "deletable": true,
    "editable": true,
    "run_control": {
     "frozen": false,
     "read_only": false
    }
   },
   "outputs": [],
   "source": [
    "assert all(matchings.groupby('class_id').tutee_id.value_counts() == 1)\n",
    "assert all(matchings.tutor_id.value_counts() <= 3)"
   ]
  },
  {
   "cell_type": "markdown",
   "metadata": {
    "collapsed": true,
    "deletable": true,
    "editable": true,
    "run_control": {
     "frozen": false,
     "read_only": false
    }
   },
   "source": [
    "# Matching Characterization"
   ]
  },
  {
   "cell_type": "code",
   "execution_count": 25,
   "metadata": {
    "collapsed": false,
    "deletable": true,
    "editable": true,
    "run_control": {
     "frozen": false,
     "read_only": false
    }
   },
   "outputs": [
    {
     "name": "stdout",
     "output_type": "stream",
     "text": [
      "3 tutors had 0 hours available and are thus being dropped.\n",
      "2 tutors had 3 matches already and are thus being dropped.\n"
     ]
    }
   ],
   "source": [
    "tutee_info = load_tutee_info()\n",
    "n_tutees = len(tutee_info)\n",
    "tutor_info = load_tutor_info()\n",
    "n_tutors = len(tutor_info)"
   ]
  },
  {
   "cell_type": "code",
   "execution_count": 58,
   "metadata": {
    "collapsed": true,
    "deletable": true,
    "editable": true,
    "run_control": {
     "frozen": false,
     "read_only": false
    }
   },
   "outputs": [],
   "source": [
    "def print_matching_info(data_path='./', verbose=False):\n",
    "    stats = []\n",
    "    \n",
    "    # ~copied from code in LP section; defines hours_requested_per_class\n",
    "    class_id_name = np.concatenate((tutee_info.classes.map(lambda class_list: [class_elem[:2] for class_elem in class_list]).values,\n",
    "                    tutor_info.classes.values))\n",
    "    class_to_id = {name: idx for (idx, name) in reduce(lambda x, y: x + y, class_id_name)}\n",
    "\n",
    "    # the lists in classes have elements (class_id, class_name, hours_requested, priority)\n",
    "    # find the total number of hours requested per class by making a dict: {name: hours} for each row, then convert\n",
    "    # to a Counter so that you can sum them all together into one\n",
    "\n",
    "    hours_per_class_list = tutee_info.classes.apply(lambda x: {elem[1]: elem[2] for elem in x}).values\n",
    "    hours_requested_per_class = sum((Counter(d) for d in hours_per_class_list), Counter())\n",
    "\n",
    "    for class_ in class_to_id:\n",
    "        if class_ not in hours_requested_per_class:\n",
    "            hours_requested_per_class[class_] = 0 # no tutees requested this class, though there are tutors available\n",
    "\n",
    "    hours_requested_per_class = pd.DataFrame(hours_requested_per_class.items(), columns=['class_name', 'hours']).sort_values('class_name')\n",
    "    \n",
    "    priority_students_per_class = tutee_info.classes.apply(lambda x: {elem[1]: elem[3] for elem in x}).values\n",
    "    priority_students_per_class = sum((Counter(d) for d in priority_students_per_class), Counter())\n",
    "    priority_students_per_class = pd.DataFrame(priority_students_per_class.items(), columns=['class_name', 'n_priority_students'])\n",
    "    \n",
    "    n_priority_students = priority_students_per_class.n_priority_students.sum()\n",
    "    \n",
    "    for matching_name in filter(lambda fname: re.match('matches_lc_.+_ls_.+_.+\\.tsv', fname), os.listdir(data_path)):\n",
    "        matching = pd.read_csv(data_path + matching_name, sep='\\t')\n",
    "        \n",
    "        n_tutors_matched = len(matching.tutor_id.unique())\n",
    "        percent_tutors_matched = n_tutors_matched / n_tutors * 100 \n",
    "\n",
    "        n_tutees_matched = len(matching.tutee_id.unique())\n",
    "        percent_tutees_matched = n_tutees_matched / n_tutees * 100\n",
    "\n",
    "        total_tutor_hours = tutor_info.avail_hours.sum()\n",
    "        total_tutee_hours = hours_requested_per_class.hours.sum()\n",
    "        hours_matched = matching.n_hours.sum()\n",
    "        \n",
    "        n_priority_matches = 0\n",
    "        for i in matching.index:\n",
    "            tutee_id, matched_class_id = matching.loc[i, ['tutee_id', 'class_id']]\n",
    "            tutee_classes = tutee_info.loc[tutee_id, 'classes']\n",
    "            priority_classes = filter(lambda class_: class_[3] == 1, tutee_classes)\n",
    "            if matched_class_id in [class_[0] for class_ in tutee_classes]:\n",
    "                n_priority_matches += 1\n",
    "        \n",
    "        if verbose:\n",
    "            print(\"For matching: {}\".format(matching_name))\n",
    "            print(\"Tutors matched: {}/{} ({:.2f}%); Tutees matched: {}/{} ({:.2f} %)\"\n",
    "                  .format(n_tutors_matched, n_tutors, percent_tutors_matched,\n",
    "                          n_tutees_matched, n_tutees, percent_tutees_matched))\n",
    "            print(\"Priority students matched: {}/{} ({}%)\"\n",
    "                  .format(n_priority_matches, n_priority_students, n_priority_matches / n_priority_students * 100))\n",
    "\n",
    "\n",
    "            print(\"Total hours tutors available: {}\".format(total_tutor_hours))\n",
    "            print(\"Total hours tutees requested: {}\".format(total_tutee_hours))\n",
    "            print(\"Hours matched: {}\".format(hours_matched))\n",
    "            print(\"\")\n",
    "        stats.append([matching_name, n_tutors_matched, n_tutors, percent_tutors_matched, n_tutees_matched, n_tutees,\n",
    "                      percent_tutees_matched, total_tutor_hours, hours_matched, total_tutee_hours, n_priority_students,\n",
    "                      n_priority_matches])\n",
    "    stats = pd.DataFrame(stats, columns=['matching_name', 'n_tutors_matched', 'n_tutors', 'percent_tutors_matched',\n",
    "                                         'n_tutees_matched', 'n_tutees', 'percent_tutees_matched', 'total_tutor_hours',\n",
    "                                         'hours_matched', 'total_tutee_hours', 'n_priority_students', 'n_priority_matches'])\n",
    "    stats.set_index('matching_name', inplace=True)\n",
    "    return stats"
   ]
  },
  {
   "cell_type": "code",
   "execution_count": 59,
   "metadata": {
    "code_folding": [],
    "collapsed": false,
    "deletable": true,
    "editable": true,
    "run_control": {
     "frozen": false,
     "read_only": false
    }
   },
   "outputs": [
    {
     "name": "stdout",
     "output_type": "stream",
     "text": [
      "For matching: matches_lc_2.0_ls_1.0_iter.tsv\n",
      "Tutors matched: 13/13 (100.00%); Tutees matched: 13/18 (72.22 %)\n",
      "Priority students matched: 20/13 (153.846153846%)\n",
      "Total hours tutors available: 31\n",
      "Total hours tutees requested: 154\n",
      "Hours matched: 29\n",
      "\n",
      "For matching: matches_lc_2.0_ls_1000.0_iter.tsv\n",
      "Tutors matched: 13/13 (100.00%); Tutees matched: 14/18 (77.78 %)\n",
      "Priority students matched: 21/13 (161.538461538%)\n",
      "Total hours tutors available: 31\n",
      "Total hours tutees requested: 154\n",
      "Hours matched: 29\n",
      "\n",
      "For matching: matches_lc_2.0_ls_10.0_iter.tsv\n",
      "Tutors matched: 13/13 (100.00%); Tutees matched: 13/18 (72.22 %)\n",
      "Priority students matched: 20/13 (153.846153846%)\n",
      "Total hours tutors available: 31\n",
      "Total hours tutees requested: 154\n",
      "Hours matched: 29\n",
      "\n",
      "For matching: matches_lc_2.0_ls_0.1_iter.tsv\n",
      "Tutors matched: 13/13 (100.00%); Tutees matched: 14/18 (77.78 %)\n",
      "Priority students matched: 21/13 (161.538461538%)\n",
      "Total hours tutors available: 31\n",
      "Total hours tutees requested: 154\n",
      "Hours matched: 31\n",
      "\n",
      "For matching: matches_lc_1.0_ls_10.0_iter.tsv\n",
      "Tutors matched: 13/13 (100.00%); Tutees matched: 13/18 (72.22 %)\n",
      "Priority students matched: 20/13 (153.846153846%)\n",
      "Total hours tutors available: 31\n",
      "Total hours tutees requested: 154\n",
      "Hours matched: 29\n",
      "\n",
      "For matching: matches_lc_1.0_ls_1.0_iter.tsv\n",
      "Tutors matched: 13/13 (100.00%); Tutees matched: 13/18 (72.22 %)\n",
      "Priority students matched: 20/13 (153.846153846%)\n",
      "Total hours tutors available: 31\n",
      "Total hours tutees requested: 154\n",
      "Hours matched: 29\n",
      "\n",
      "For matching: matches_lc_1.0_ls_0.1_iter.tsv\n",
      "Tutors matched: 13/13 (100.00%); Tutees matched: 14/18 (77.78 %)\n",
      "Priority students matched: 21/13 (161.538461538%)\n",
      "Total hours tutors available: 31\n",
      "Total hours tutees requested: 154\n",
      "Hours matched: 31\n",
      "\n",
      "For matching: matches_lc_1.0_ls_1000.0_iter.tsv\n",
      "Tutors matched: 13/13 (100.00%); Tutees matched: 14/18 (77.78 %)\n",
      "Priority students matched: 21/13 (161.538461538%)\n",
      "Total hours tutors available: 31\n",
      "Total hours tutees requested: 154\n",
      "Hours matched: 29\n",
      "\n"
     ]
    },
    {
     "data": {
      "text/plain": [
       "<matplotlib.axes._subplots.AxesSubplot at 0x7f51cacadad0>"
      ]
     },
     "execution_count": 59,
     "metadata": {},
     "output_type": "execute_result"
    },
    {
     "data": {
      "image/png": "[encoded data removed]",
      "text/plain": [
       "<matplotlib.figure.Figure at 0x7f51cacadb90>"
      ]
     },
     "metadata": {},
     "output_type": "display_data"
    }
   ],
   "source": [
    "stats = print_matching_info(verbose=True)\n",
    "stats.transpose().plot.bar()"
   ]
  },
  {
   "cell_type": "code",
   "execution_count": 86,
   "metadata": {
    "collapsed": false,
    "deletable": true,
    "editable": true,
    "run_control": {
     "frozen": false,
     "read_only": false
    }
   },
   "outputs": [
    {
     "name": "stdout",
     "output_type": "stream",
     "text": [
      "For matching number: 0\n",
      "Tutors matched: 13/13 (100.00%); Tutees matched: 11/18 (61.11 %)\n",
      "Priority students matched: 22/13 (169.230769231%)\n",
      "Total hours tutors available: 31\n",
      "Total hours tutees requested: 154\n",
      "Hours matched: 31\n",
      "\n",
      "For matching number: 1\n",
      "Tutors matched: 13/13 (100.00%); Tutees matched: 10/18 (55.56 %)\n",
      "Priority students matched: 19/13 (146.153846154%)\n",
      "Total hours tutors available: 31\n",
      "Total hours tutees requested: 154\n",
      "Hours matched: 31\n",
      "\n",
      "For matching number: 2\n",
      "Tutors matched: 13/13 (100.00%); Tutees matched: 10/18 (55.56 %)\n",
      "Priority students matched: 20/13 (153.846153846%)\n",
      "Total hours tutors available: 31\n",
      "Total hours tutees requested: 154\n",
      "Hours matched: 31\n",
      "\n",
      "For matching number: 3\n",
      "Tutors matched: 13/13 (100.00%); Tutees matched: 10/18 (55.56 %)\n",
      "Priority students matched: 19/13 (146.153846154%)\n",
      "Total hours tutors available: 31\n",
      "Total hours tutees requested: 154\n",
      "Hours matched: 31\n",
      "\n",
      "For matching number: 4\n",
      "Tutors matched: 13/13 (100.00%); Tutees matched: 10/18 (55.56 %)\n",
      "Priority students matched: 19/13 (146.153846154%)\n",
      "Total hours tutors available: 31\n",
      "Total hours tutees requested: 154\n",
      "Hours matched: 31\n",
      "\n"
     ]
    },
    {
     "data": {
      "text/plain": [
       "<matplotlib.axes._subplots.AxesSubplot at 0x7f2284bfc890>"
      ]
     },
     "execution_count": 86,
     "metadata": {},
     "output_type": "execute_result"
    },
    {
     "data": {
      "image/png": "[encoded data removed]",
      "text/plain": [
       "<matplotlib.figure.Figure at 0x7f22d00d6b50>"
      ]
     },
     "metadata": {},
     "output_type": "display_data"
    }
   ],
   "source": [
    "stats = print_matching_info(range(5), verbose=True)\n",
    "stats.transpose().plot.bar()"
   ]
  },
  {
   "cell_type": "code",
   "execution_count": 33,
   "metadata": {
    "collapsed": false,
    "deletable": true,
    "editable": true,
    "run_control": {
     "frozen": false,
     "read_only": false
    }
   },
   "outputs": [
    {
     "data": {
      "text/html": [
       "<div>\n",
       "<table border=\"1\" class=\"dataframe\">\n",
       "  <thead>\n",
       "    <tr style=\"text-align: right;\">\n",
       "      <th></th>\n",
       "      <th>tutor_id</th>\n",
       "      <th>tutor_name</th>\n",
       "      <th>tutee_id</th>\n",
       "      <th>tutee_name</th>\n",
       "      <th>class_id</th>\n",
       "      <th>class_name</th>\n",
       "      <th>n_hours</th>\n",
       "    </tr>\n",
       "  </thead>\n",
       "  <tbody>\n",
       "    <tr>\n",
       "      <th>0</th>\n",
       "      <td>8</td>\n",
       "      <td>avogttus</td>\n",
       "      <td>19</td>\n",
       "      <td>othduyt</td>\n",
       "      <td>2</td>\n",
       "      <td>6.005</td>\n",
       "      <td>1.0</td>\n",
       "    </tr>\n",
       "    <tr>\n",
       "      <th>1</th>\n",
       "      <td>9</td>\n",
       "      <td>ran</td>\n",
       "      <td>23</td>\n",
       "      <td>iyy</td>\n",
       "      <td>3</td>\n",
       "      <td>6.006</td>\n",
       "      <td>1.0</td>\n",
       "    </tr>\n",
       "    <tr>\n",
       "      <th>2</th>\n",
       "      <td>9</td>\n",
       "      <td>ran</td>\n",
       "      <td>27</td>\n",
       "      <td>askukqc</td>\n",
       "      <td>3</td>\n",
       "      <td>6.006</td>\n",
       "      <td>1.0</td>\n",
       "    </tr>\n",
       "    <tr>\n",
       "      <th>3</th>\n",
       "      <td>4</td>\n",
       "      <td>imrw</td>\n",
       "      <td>20</td>\n",
       "      <td>ysc</td>\n",
       "      <td>5</td>\n",
       "      <td>6.034</td>\n",
       "      <td>1.0</td>\n",
       "    </tr>\n",
       "    <tr>\n",
       "      <th>4</th>\n",
       "      <td>5</td>\n",
       "      <td>eesou</td>\n",
       "      <td>20</td>\n",
       "      <td>ysc</td>\n",
       "      <td>4</td>\n",
       "      <td>6.036</td>\n",
       "      <td>1.0</td>\n",
       "    </tr>\n",
       "  </tbody>\n",
       "</table>\n",
       "</div>"
      ],
      "text/plain": [
       "   tutor_id tutor_name  tutee_id tutee_name  class_id  class_name  n_hours\n",
       "0         8   avogttus        19    othduyt         2       6.005      1.0\n",
       "1         9        ran        23        iyy         3       6.006      1.0\n",
       "2         9        ran        27    askukqc         3       6.006      1.0\n",
       "3         4       imrw        20        ysc         5       6.034      1.0\n",
       "4         5      eesou        20        ysc         4       6.036      1.0"
      ]
     },
     "execution_count": 33,
     "metadata": {},
     "output_type": "execute_result"
    }
   ],
   "source": [
    "matching.head()"
   ]
  }
 ],
 "metadata": {
  "kernelspec": {
   "display_name": "Usr Python",
   "language": "python",
   "name": "test"
  },
  "language_info": {
   "codemirror_mode": {
    "name": "ipython",
    "version": 2
   },
   "file_extension": ".py",
   "mimetype": "text/x-python",
   "name": "python",
   "nbconvert_exporter": "python",
   "pygments_lexer": "ipython2",
   "version": "2.7.6"
  },
  "latex_envs": {
   "LaTeX_envs_menu_present": true,
   "bibliofile": "biblio.bib",
   "cite_by": "apalike",
   "current_citInitial": 1,
   "eqLabelWithNumbers": true,
   "eqNumInitial": 1,
   "labels_anchors": false,
   "latex_user_defs": false,
   "report_style_numbering": false,
   "user_envs_cfg": false
  },
  "toc": {
   "colors": {
    "hover_highlight": "#DAA520",
    "running_highlight": "#FF0000",
    "selected_highlight": "#FFD700"
   },
   "moveMenuLeft": true,
   "nav_menu": {
    "height": "11.818182px",
    "width": "1.818182px"
   },
   "navigate_menu": true,
   "number_sections": true,
   "sideBar": true,
   "threshold": 4,
   "toc_cell": true,
   "toc_section_display": "block",
   "toc_window_display": false
  }
 },
 "nbformat": 4,
 "nbformat_minor": 2
}
